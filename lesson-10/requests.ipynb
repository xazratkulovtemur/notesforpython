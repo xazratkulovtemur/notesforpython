{
 "cells": [
  {
   "cell_type": "markdown",
   "metadata": {},
   "source": [
    "## Requests"
   ]
  },
  {
   "cell_type": "code",
   "execution_count": 1,
   "metadata": {},
   "outputs": [
    {
     "name": "stdout",
     "output_type": "stream",
     "text": [
      "Status Code: 200\n",
      "{'userId': 1, 'id': 1, 'title': 'delectus aut autem', 'completed': False}\n",
      "{'Date': 'Thu, 27 Mar 2025 14:31:12 GMT', 'Content-Type': 'application/json; charset=utf-8', 'Transfer-Encoding': 'chunked', 'Connection': 'keep-alive', 'Report-To': '{\"group\":\"heroku-nel\",\"max_age\":3600,\"endpoints\":[{\"url\":\"https://nel.heroku.com/reports?ts=1740712140&sid=e11707d5-02a7-43ef-b45e-2cf4d2036f7d&s=YEkwsTaKu%2FCQ%2FE7AoPdmvrKIH36wOXdDa5UmWR36xX8%3D\"}]}', 'Reporting-Endpoints': 'heroku-nel=https://nel.heroku.com/reports?ts=1740712140&sid=e11707d5-02a7-43ef-b45e-2cf4d2036f7d&s=YEkwsTaKu%2FCQ%2FE7AoPdmvrKIH36wOXdDa5UmWR36xX8%3D', 'Nel': '{\"report_to\":\"heroku-nel\",\"max_age\":3600,\"success_fraction\":0.005,\"failure_fraction\":0.05,\"response_headers\":[\"Via\"]}', 'X-Powered-By': 'Express', 'X-Ratelimit-Limit': '1000', 'X-Ratelimit-Remaining': '999', 'X-Ratelimit-Reset': '1740712175', 'Vary': 'Origin, Accept-Encoding', 'Access-Control-Allow-Credentials': 'true', 'Cache-Control': 'max-age=43200', 'Pragma': 'no-cache', 'Expires': '-1', 'X-Content-Type-Options': 'nosniff', 'Etag': 'W/\"53-hfEnumeNh6YirfjyjaujcOPPT+s\"', 'Via': '1.1 vegur', 'CF-Cache-Status': 'HIT', 'Age': '27234', 'Server': 'cloudflare', 'CF-RAY': '926f970c0c7e33b7-AMS', 'Content-Encoding': 'gzip', 'alt-svc': 'h3=\":443\"; ma=86400', 'server-timing': 'cfL4;desc=\"?proto=TCP&rtt=96307&min_rtt=95587&rtt_var=36359&sent=4&recv=6&lost=0&retrans=0&sent_bytes=2841&recv_bytes=785&delivery_rate=30129&cwnd=252&unsent_bytes=0&cid=f91d3831b2344306&ts=117&x=0\"'}\n"
     ]
    }
   ],
   "source": [
    "import requests \n",
    "#using GET method\n",
    "\n",
    "url=\"https://jsonplaceholder.typicode.com/todos/1\"\n",
    "response=requests.get(url)\n",
    "\n",
    "print(\"Status Code:\", response.status_code)\n",
    "\n",
    "print(response.json())\n",
    "\n",
    "print(response.headers)\n",
    "\n",
    "#this is about getting information from url"
   ]
  },
  {
   "cell_type": "code",
   "execution_count": null,
   "metadata": {},
   "outputs": [
    {
     "name": "stdout",
     "output_type": "stream",
     "text": [
      "{}\n"
     ]
    }
   ],
   "source": [
    "data = {\n",
    "    \"title\": \"My First Post\",\n",
    "    \"body\": \"This is the content of the post.\",\n",
    "    \"userId\": 3\n",
    "}\n",
    "\n",
    "response=requests.post(url, json=data)\n",
    "print(response.json())\n",
    "\n",
    "#using POST method, we can write info to url"
   ]
  },
  {
   "cell_type": "code",
   "execution_count": 12,
   "metadata": {},
   "outputs": [],
   "source": [
    "#PUT method to update existing information\n",
    "\n",
    "updated_data = {\n",
    "    \"title\": \"Updated\",\n",
    "    \"body\": \"Updated\",\n",
    "    \"userId\": 3\n",
    "}\n",
    "\n",
    "response=requests.put(url, json=updated_data)"
   ]
  },
  {
   "cell_type": "code",
   "execution_count": 13,
   "metadata": {},
   "outputs": [],
   "source": [
    "#PATCH updates spesific fields\n",
    "\n",
    "update ={\n",
    "    \"title\": \"Mockingbird\"\n",
    "}\n",
    "\n",
    "response=requests.patch(url, json=update)"
   ]
  },
  {
   "cell_type": "code",
   "execution_count": null,
   "metadata": {},
   "outputs": [
    {
     "name": "stdout",
     "output_type": "stream",
     "text": [
      "200\n"
     ]
    }
   ],
   "source": [
    "#DELETE to delete everything\n",
    "\n",
    "response=requests.delete(url)\n",
    "print(response.status_code) #200 means successful deletion"
   ]
  },
  {
   "cell_type": "code",
   "execution_count": null,
   "metadata": {},
   "outputs": [],
   "source": [
    "print(response.status_code) #gives sttaus code\n",
    "print(response.json()) #gives json data\n",
    "print(response.headers) #gives headers\n",
    "print(response.text) #gives text data\n",
    "print(response.url) #gives url"
   ]
  },
  {
   "cell_type": "markdown",
   "metadata": {},
   "source": [
    "## Handling errors\n"
   ]
  },
  {
   "cell_type": "code",
   "execution_count": 16,
   "metadata": {},
   "outputs": [],
   "source": [
    "try: \n",
    "    response=requests.get(\"https://jsonplaceholder.typicode.com/todos/1\")\n",
    "    response.raise_for_status()\n",
    "except requests.exceptions.HTTPError as err:\n",
    "    print(err)\n",
    "except requests.exceptions.RequestException as err:\n",
    "    print(err)"
   ]
  },
  {
   "cell_type": "code",
   "execution_count": 19,
   "metadata": {},
   "outputs": [
    {
     "name": "stdout",
     "output_type": "stream",
     "text": [
      "HTTPSConnectionPool(host='jsonplaceholder.typicode.com', port=443): Read timed out. (read timeout=0.1)\n"
     ]
    }
   ],
   "source": [
    "#time out\n",
    "\n",
    "try:\n",
    "    response=requests.get(\"https://jsonplaceholder.typicode.com/todos/1\", timeout=0.1)\n",
    "    print(response.json())\n",
    "except requests.exceptions.Timeout as err:\n",
    "    print(err)"
   ]
  },
  {
   "cell_type": "code",
   "execution_count": null,
   "metadata": {},
   "outputs": [],
   "source": [
    "import requests\n",
    "try:\n",
    "    response=requests.get(\"https://jsonplaceholder.typicode.com/todos/1\",  timeout=0.1)\n",
    "    print(response.json())\n",
    "except response.exceptions/TimeoutError as err:\n",
    "    print(err)"
   ]
  },
  {
   "cell_type": "markdown",
   "metadata": {},
   "source": [
    "## Downloading files"
   ]
  },
  {
   "cell_type": "code",
   "execution_count": 4,
   "metadata": {},
   "outputs": [
    {
     "name": "stdout",
     "output_type": "stream",
     "text": [
      "Successsfully downloaded\n"
     ]
    }
   ],
   "source": [
    "import requests\n",
    "url = \"https://www.example.com/sample.pdf\"\n",
    "response=requests.get(url, stream=True)\n",
    "\n",
    "with open(\"sample.pdf\", \"wb\") as file:\n",
    "    for chunk in response.iter_content(chunk_size=1024):\n",
    "        file.write(chunk)\n",
    "\n",
    "print(\"Successsfully downloaded\") "
   ]
  },
  {
   "cell_type": "code",
   "execution_count": 10,
   "metadata": {},
   "outputs": [],
   "source": [
    "import requests\n",
    "url = \"https://httpbin.org/post\"\n",
    "files = {\"file\": open(\"sample.pdf\", \"rb\")}\n",
    "\n",
    "response=requests.post(url, files=files)\n",
    "#print(response.json())"
   ]
  },
  {
   "cell_type": "code",
   "execution_count": 13,
   "metadata": {},
   "outputs": [
    {
     "name": "stdout",
     "output_type": "stream",
     "text": [
      "<Response [200]>\n"
     ]
    }
   ],
   "source": [
    "options=requests.options(url)\n",
    "print(options)"
   ]
  },
  {
   "cell_type": "markdown",
   "metadata": {},
   "source": [
    "1. Method\tDescription\n",
    "2. requests.get(url)\tFetch a resource\n",
    "3. requests.post(url, json=data)\tSend data to create a resource\n",
    "4. requests.put(url, json=data)\tUpdate an entire resource\n",
    "5. requests.patch(url, json=data)\tUpdate partial data\n",
    "6. requests.delete(url)\tRemove a resource\n",
    "7. requests.head(url)\tGet only headers\n",
    "8. requests.options(url)\tGet allowed methods"
   ]
  },
  {
   "cell_type": "markdown",
   "metadata": {},
   "source": [
    "### Content"
   ]
  },
  {
   "cell_type": "code",
   "execution_count": null,
   "metadata": {},
   "outputs": [
    {
     "data": {
      "text/plain": [
       "b'<html>\\r\\n<head><title>503 Service Temporarily Unavailable</title></head>\\r\\n<body>\\r\\n<center><h1>503 Service Temporarily Unavailable</h1></center>\\r\\n</body>\\r\\n</html>\\r\\n'"
      ]
     },
     "execution_count": 34,
     "metadata": {},
     "output_type": "execute_result"
    }
   ],
   "source": [
    "response=requests.get(url)\n",
    "response.content"
   ]
  },
  {
   "cell_type": "code",
   "execution_count": null,
   "metadata": {},
   "outputs": [
    {
     "data": {
      "text/plain": [
       "str"
      ]
     },
     "execution_count": 14,
     "metadata": {},
     "output_type": "execute_result"
    }
   ],
   "source": [
    "res=response.content.decode(\"utf-8\") \n",
    "type(res)\n",
    " #converting to string\n"
   ]
  },
  {
   "cell_type": "code",
   "execution_count": 15,
   "metadata": {},
   "outputs": [
    {
     "name": "stdout",
     "output_type": "stream",
     "text": [
      "{\n",
      "  \"args\": {}, \n",
      "  \"data\": \"\", \n",
      "  \"files\": {\n",
      "    \"file\": \"<!doctype html>\\n<html>\\n<head>\\n    <title>Example Domain</title>\\n\\n    <meta charset=\\\"utf-8\\\" />\\n    <meta http-equiv=\\\"Content-type\\\" content=\\\"text/html; charset=utf-8\\\" />\\n    <meta name=\\\"viewport\\\" content=\\\"width=device-width, initial-scale=1\\\" />\\n    <style type=\\\"text/css\\\">\\n    body {\\n        background-color: #f0f0f2;\\n        margin: 0;\\n        padding: 0;\\n        font-family: -apple-system, system-ui, BlinkMacSystemFont, \\\"Segoe UI\\\", \\\"Open Sans\\\", \\\"Helvetica Neue\\\", Helvetica, Arial, sans-serif;\\n        \\n    }\\n    div {\\n        width: 600px;\\n        margin: 5em auto;\\n        padding: 2em;\\n        background-color: #fdfdff;\\n        border-radius: 0.5em;\\n        box-shadow: 2px 3px 7px 2px rgba(0,0,0,0.02);\\n    }\\n    a:link, a:visited {\\n        color: #38488f;\\n        text-decoration: none;\\n    }\\n    @media (max-width: 700px) {\\n        div {\\n            margin: 0 auto;\\n            width: auto;\\n        }\\n    }\\n    </style>    \\n</head>\\n\\n<body>\\n<div>\\n    <h1>Example Domain</h1>\\n    <p>This domain is for use in illustrative examples in documents. You may use this\\n    domain in literature without prior coordination or asking for permission.</p>\\n    <p><a href=\\\"https://www.iana.org/domains/example\\\">More information...</a></p>\\n</div>\\n</body>\\n</html>\\n\"\n",
      "  }, \n",
      "  \"form\": {}, \n",
      "  \"headers\": {\n",
      "    \"Accept\": \"*/*\", \n",
      "    \"Accept-Encoding\": \"gzip, deflate\", \n",
      "    \"Content-Length\": \"1402\", \n",
      "    \"Content-Type\": \"multipart/form-data; boundary=7798c240fc5733ddaf4237bb8a4fce6a\", \n",
      "    \"Host\": \"httpbin.org\", \n",
      "    \"User-Agent\": \"python-requests/2.32.3\", \n",
      "    \"X-Amzn-Trace-Id\": \"Root=1-67d3aa59-4af497f23d21f88d3b887cdd\"\n",
      "  }, \n",
      "  \"json\": null, \n",
      "  \"origin\": \"37.110.215.28\", \n",
      "  \"url\": \"https://httpbin.org/post\"\n",
      "}\n",
      "\n"
     ]
    }
   ],
   "source": [
    "print(res)"
   ]
  },
  {
   "cell_type": "code",
   "execution_count": null,
   "metadata": {},
   "outputs": [],
   "source": [
    "import json\n",
    "\n",
    "info=json.loads(text) #converting to json \n",
    "info[\"currentuser\"]   "
   ]
  },
  {
   "cell_type": "code",
   "execution_count": 16,
   "metadata": {},
   "outputs": [
    {
     "data": {
      "text/plain": [
       "{'Date': 'Fri, 14 Mar 2025 04:02:33 GMT', 'Content-Type': 'application/json', 'Content-Length': '1829', 'Connection': 'keep-alive', 'Server': 'gunicorn/19.9.0', 'Access-Control-Allow-Origin': '*', 'Access-Control-Allow-Credentials': 'true'}"
      ]
     },
     "execution_count": 16,
     "metadata": {},
     "output_type": "execute_result"
    }
   ],
   "source": [
    "#Header\n",
    "\n",
    "header=response.headers\n",
    "header[\"Date\"]\n",
    "header"
   ]
  },
  {
   "cell_type": "code",
   "execution_count": 47,
   "metadata": {},
   "outputs": [
    {
     "data": {
      "text/plain": [
       "37102"
      ]
     },
     "execution_count": 47,
     "metadata": {},
     "output_type": "execute_result"
    }
   ],
   "source": [
    "import json\n",
    "import requests\n",
    "\n",
    "url=\"https://api.github.com/search/repositories?q=requests+language:python\"\n",
    "resp=requests.get(url)\n",
    "infor=resp.json()\n",
    "infor[\"total_count\"]"
   ]
  },
  {
   "cell_type": "markdown",
   "metadata": {},
   "source": [
    "## BODY"
   ]
  },
  {
   "cell_type": "code",
   "execution_count": null,
   "metadata": {},
   "outputs": [],
   "source": [
    "requests.post(\"https://api.github.com/search/repositories?q=requests+language:python\", data=[(\"key\", \"value\")])\n",
    "response.json()"
   ]
  },
  {
   "cell_type": "code",
   "execution_count": null,
   "metadata": {},
   "outputs": [],
   "source": []
  }
 ],
 "metadata": {
  "kernelspec": {
   "display_name": "Python 3",
   "language": "python",
   "name": "python3"
  },
  "language_info": {
   "codemirror_mode": {
    "name": "ipython",
    "version": 3
   },
   "file_extension": ".py",
   "mimetype": "text/x-python",
   "name": "python",
   "nbconvert_exporter": "python",
   "pygments_lexer": "ipython3",
   "version": "3.10.10"
  }
 },
 "nbformat": 4,
 "nbformat_minor": 2
}
