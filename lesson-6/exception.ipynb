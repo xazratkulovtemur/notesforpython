{
 "cells": [
  {
   "cell_type": "markdown",
   "metadata": {},
   "source": [
    "### We can handle exceptions"
   ]
  },
  {
   "cell_type": "code",
   "execution_count": 1,
   "metadata": {},
   "outputs": [
    {
     "name": "stdout",
     "output_type": "stream",
     "text": [
      "1\n",
      "Bunday index yo`q\n"
     ]
    }
   ],
   "source": [
    "try:\n",
    "    a=[1]\n",
    "    for i in range(10):\n",
    "        print(a[i])\n",
    "except IndexError:\n",
    "    print(\"Bunday index yo`q\")\n"
   ]
  },
  {
   "cell_type": "markdown",
   "metadata": {},
   "source": [
    "```\n",
    "there is a lot of error types. It works from up to down. If we say except BaseError, it can handle any error. If we just write Except: it is equal to BaseError"
   ]
  },
  {
   "cell_type": "code",
   "execution_count": null,
   "metadata": {},
   "outputs": [],
   "source": [
    "try: \n",
    "    a=int(input())\n",
    "    b=int(input())\n",
    "    result=a/b\n",
    "    print(f\"a/b={result}\")\n",
    "\n",
    "except ZeroDivisionError:\n",
    "    raise ZeroDivisionError('Denominator cannot be 0') #if we use raise, it shows error message on error. \n",
    "\n",
    "\n",
    "    "
   ]
  },
  {
   "cell_type": "code",
   "execution_count": null,
   "metadata": {},
   "outputs": [
    {
     "name": "stdout",
     "output_type": "stream",
     "text": [
      "Denominator cannot be 0\n"
     ]
    }
   ],
   "source": [
    "try: \n",
    "    a=int(input())\n",
    "    b=int(input())\n",
    "    result=a/b\n",
    "    print(f\"a/b={result}\")\n",
    "\n",
    "except ZeroDivisionError:\n",
    "    print(\"Denominator cannot be 0\")     # if we use this, it shows only message not error in output"
   ]
  },
  {
   "cell_type": "markdown",
   "metadata": {},
   "source": [
    "try:\n",
    "\n",
    "except:\n",
    "\n",
    "else:\n",
    "\n",
    "finally: \n",
    "\n"
   ]
  },
  {
   "cell_type": "code",
   "execution_count": 9,
   "metadata": {},
   "outputs": [
    {
     "name": "stdout",
     "output_type": "stream",
     "text": [
      "5.0\n",
      "Executed\n"
     ]
    }
   ],
   "source": [
    "try:\n",
    "    a=1/0.2\n",
    "\n",
    "except ZeroDivisionError:\n",
    "    print(\"Denominator cannot be divided by 0!\")\n",
    "except NameError: \n",
    "    print(\"It can be only numbers!\")\n",
    "else: \n",
    "    print(a)\n",
    "finally:\n",
    "    print(\"Executed\")"
   ]
  }
 ],
 "metadata": {
  "kernelspec": {
   "display_name": "Python 3",
   "language": "python",
   "name": "python3"
  },
  "language_info": {
   "codemirror_mode": {
    "name": "ipython",
    "version": 3
   },
   "file_extension": ".py",
   "mimetype": "text/x-python",
   "name": "python",
   "nbconvert_exporter": "python",
   "pygments_lexer": "ipython3",
   "version": "3.10.10"
  }
 },
 "nbformat": 4,
 "nbformat_minor": 2
}
