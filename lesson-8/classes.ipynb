{
 "cells": [
  {
   "cell_type": "markdown",
   "metadata": {},
   "source": [
    "## Classes\n",
    "1. Public and Private attributes\n",
    "2. Inheritance\n",
    "3. Property\n",
    "4. classmethod ,staticmethod"
   ]
  },
  {
   "cell_type": "markdown",
   "metadata": {},
   "source": [
    "### Public and Private attributes\n",
    "Public attributes can be accessed from anywhere—inside the class, outside the class, or in subclasses.\n",
    "\n",
    "Private attributes are intended to be hidden from direct access."
   ]
  },
  {
   "cell_type": "code",
   "execution_count": null,
   "metadata": {},
   "outputs": [
    {
     "name": "stdout",
     "output_type": "stream",
     "text": [
      "1000\n",
      "1000\n"
     ]
    }
   ],
   "source": [
    "class Bankaccount:\n",
    "    def __init__(self, name, age, salary):\n",
    "        self.name=name\n",
    "        self.age=age\n",
    "        self.__salary=salary #PRIVATE variable by adding __ before the variable name\n",
    "        self._email=\"Test email\" #PROTECTED variable by adding _ before the variable name\n",
    "    \n",
    "    def get_salary(self):\n",
    "        return self.__salary\n",
    "person=Bankaccount(\"Temur\", 17, 1000)\n",
    "print(person.get_salary())\n",
    "person._email\n",
    "print(person._Bankaccount__salary) #It can also be called like this"
   ]
  },
  {
   "cell_type": "code",
   "execution_count": 10,
   "metadata": {},
   "outputs": [
    {
     "name": "stdout",
     "output_type": "stream",
     "text": [
      "Balanace now: 1000000\n",
      "Balance after deposit: 1001000\n",
      "Balance after withdrawal: 1000500\n"
     ]
    }
   ],
   "source": [
    "#2nd example\n",
    "\n",
    "class Bankaccount2:\n",
    "    def __init__(self, ID, balance):\n",
    "        self.ID=ID\n",
    "        self.__balance=balance\n",
    "    def deposit(self, amount):\n",
    "        if amount>0:\n",
    "            self.__balance+=amount\n",
    "        return self.__balance\n",
    "    def withdraw(self, amount):\n",
    "        if amount>0 and amount<=self.__balance:\n",
    "            self.__balance-=amount\n",
    "        return self.__balance\n",
    "account1=Bankaccount2(1000, 1000000)\n",
    "print(f\"Balanace now: {account1._Bankaccount2__balance}\")\n",
    "print(f\"Balance after deposit: {account1.deposit(1000)}\")\n",
    "print(f\"Balance after withdrawal: {account1.withdraw(500)}\")\n"
   ]
  },
  {
   "cell_type": "markdown",
   "metadata": {},
   "source": [
    "### Inheritance"
   ]
  },
  {
   "cell_type": "code",
   "execution_count": 33,
   "metadata": {},
   "outputs": [
    {
     "name": "stdout",
     "output_type": "stream",
     "text": [
      "Temur is 17 years old!\n",
      "Temur is eating\n",
      "Temur is walking\n"
     ]
    }
   ],
   "source": [
    "class Person:\n",
    "    def __init__(self, name, age):\n",
    "        self.age=age\n",
    "        self.name=name\n",
    "    def eat(self):\n",
    "        print(f\"{self.name} is eating\")\n",
    "    def walk(self):\n",
    "        print(f\"{self.name} is walking\")\n",
    "    def __str__(self):\n",
    "        return f\"{self.name} is {self.age} years old!\"\n",
    "p1=Person(\"Temur\", 17)\n",
    "print(p1)\n",
    "p1.eat()\n",
    "p1.walk()"
   ]
  },
  {
   "cell_type": "code",
   "execution_count": 39,
   "metadata": {},
   "outputs": [
    {
     "name": "stdout",
     "output_type": "stream",
     "text": [
      "Teacher(Aziz, 30, MAth)\n",
      "Aziz is eating\n",
      "Aziz is walking\n",
      "Aziz is teaching Math\n"
     ]
    }
   ],
   "source": [
    "class Teacher(Person):\n",
    "    def __init__(self, name, age, subject):\n",
    "        super().__init__(name, age)\n",
    "        self.subject=subject\n",
    "    def eat(self):\n",
    "        Person.eat(self)\n",
    "    def walk(self):\n",
    "        Person.walk(self)\n",
    "    def teach(self, subject):\n",
    "        print(f\"{self.name} is teaching {subject}\")\n",
    "    def __str__(self):\n",
    "        return f\"Teacher({self.name}, {self.age}, {self.subject})\"\n",
    "\n",
    "    \n",
    "t=Teacher(\"Aziz\", 30, \"MAth\")\n",
    "print(t)\n",
    "t.eat()\n",
    "t.walk()\n",
    "t.teach(\"Math\")\n",
    "\n",
    "\n"
   ]
  },
  {
   "cell_type": "code",
   "execution_count": null,
   "metadata": {},
   "outputs": [],
   "source": [
    "print(t._Teacher__age)"
   ]
  },
  {
   "cell_type": "code",
   "execution_count": 1,
   "metadata": {},
   "outputs": [
    {
     "name": "stdout",
     "output_type": "stream",
     "text": [
      "[1, 2, 3, 4, 5]\n",
      "1642463105648\n",
      "[1, 2, 3, 4, 5, 6]\n",
      "1642463105648\n"
     ]
    }
   ],
   "source": [
    "class Numberlist:\n",
    "    def __init__(self, *args):\n",
    "        for item in args:\n",
    "            if not isinstance (item, (int, float)):\n",
    "                raise ValueError(f\"{item} is not a number\")\n",
    "        self.numbers=list(args)\n",
    "    def append(self, element):\n",
    "        if not isinstance(element, (int, float)):\n",
    "            raise ValueError\n",
    "        self.numbers.append(element)\n",
    "    \n",
    "\n",
    "a=Numberlist(1,2,3,4,5)\n",
    "print(a.numbers)\n",
    "print(id(a))\n",
    "a.append(6)\n",
    "print(a.numbers)\n",
    "print(id(a))\n"
   ]
  },
  {
   "cell_type": "code",
   "execution_count": null,
   "metadata": {},
   "outputs": [
    {
     "name": "stdout",
     "output_type": "stream",
     "text": [
      "{'a': 1, 'b': 2, 'c': 3}\n"
     ]
    }
   ],
   "source": [
    "\n",
    "class CustomDict(dict):\n",
    "\n",
    "    # def __init__(self, *args, **kwargs):\n",
    "    #     super().__init__(*args, **kwargs)\n",
    "\n",
    "    def invert(self, in_place = False):\n",
    "        if in_place:\n",
    "            for k, v in self.items():\n",
    "                self[v] = k\n",
    "        else:\n",
    "            return CustomDict({v: k for k, v in self.items()})\n",
    "    \n",
    "my_dict = CustomDict(a=1, b=2, c=3)\n",
    "print(my_dict)\n"
   ]
  },
  {
   "cell_type": "code",
   "execution_count": 11,
   "metadata": {},
   "outputs": [
    {
     "name": "stdout",
     "output_type": "stream",
     "text": [
      "{1: 'a', 2: 'b', 3: 'c'}\n"
     ]
    }
   ],
   "source": [
    "c=my_dict.invert()\n",
    "print(c)"
   ]
  },
  {
   "cell_type": "markdown",
   "metadata": {},
   "source": [
    "### Getter and Setter approach"
   ]
  },
  {
   "cell_type": "code",
   "execution_count": 13,
   "metadata": {},
   "outputs": [
    {
     "name": "stdout",
     "output_type": "stream",
     "text": [
      "Temur is 17 years old\n",
      "Aziz is 11 years old\n"
     ]
    },
    {
     "data": {
      "text/plain": [
       "'Aziz'"
      ]
     },
     "execution_count": 13,
     "metadata": {},
     "output_type": "execute_result"
    }
   ],
   "source": [
    "class Person:\n",
    "    def __init__(self, name, age):\n",
    "        if not isinstance(name, str) or name==\"\":\n",
    "            raise ValueError\n",
    "        self.__name=name\n",
    "        if not isinstance(age, int) or age<0:\n",
    "            raise ValueError\n",
    "        self.__age=age\n",
    "    def set_name(self, name):\n",
    "        if not isinstance(name, str) or name==\"\":\n",
    "            raise ValueError\n",
    "        self.__name=name\n",
    "    def get_name(self):\n",
    "        return self.__name\n",
    "    def set_age(self, age):\n",
    "        if not isinstance(age, int) or age<0:\n",
    "            raise ValueError\n",
    "        self.__age=age\n",
    "    def get_age(self):\n",
    "        return self.__age\n",
    "    def __str__(self):\n",
    "        return f\"{self.__name} is {self.__age} years old\"\n",
    "    \n",
    "p1=Person(\"Temur\", 17)\n",
    "print(p1)\n",
    "p1.set_name(\"Aziz\")\n",
    "p1.set_age(11)\n",
    "print(p1)\n",
    "p1.get_name()"
   ]
  },
  {
   "cell_type": "code",
   "execution_count": 35,
   "metadata": {},
   "outputs": [
    {
     "name": "stdout",
     "output_type": "stream",
     "text": [
      "Aziz is 12 years old\n",
      "Muhammadali is 100 years old\n",
      "Muhammadali is 17 years old\n",
      "<bound method Person.name of <__main__.Person object at 0x0000017E6B8E87F0>> is 17 years old\n"
     ]
    }
   ],
   "source": [
    "#Now it is pythonic way\n",
    "\n",
    "class Person:\n",
    "    def __init__(self, name, age):\n",
    "        self.name=name\n",
    "        self.age=age\n",
    "\n",
    "    @property\n",
    "    def name(self):\n",
    "        return self.__name\n",
    "    @name.setter\n",
    "    def name(self, value):\n",
    "        if not isinstance(value, str) or value==\"\":\n",
    "            raise ValueError(f\"name cannot be {value!r}\")\n",
    "        self.__name=value\n",
    "    \n",
    "    @property\n",
    "    def age(self):\n",
    "        return self.__age\n",
    "    @age.setter\n",
    "    def age(self, value):\n",
    "        if not isinstance(value, int) or value<0:\n",
    "            raise ValueError(f\"age cannot be {value!r}\")\n",
    "        self.__age=value\n",
    "    def name(self):\n",
    "        del self._name\n",
    "    def __str__(self):\n",
    "        return f\"{self.name} is {self.age} years old\"\n",
    "    \n",
    "p2=Person(\"Muhammadali\", 100)\n",
    "p3=Person(\"Aziz\", 12)\n",
    "print(p3)\n",
    "print(p2)\n",
    "p2._Person__age=17\n",
    "print(p2)\n",
    "del p2.name\n",
    "print(p2)\n",
    "\n"
   ]
  },
  {
   "cell_type": "code",
   "execution_count": null,
   "metadata": {},
   "outputs": [
    {
     "data": {
      "text/plain": [
       "87.3"
      ]
     },
     "execution_count": 3,
     "metadata": {},
     "output_type": "execute_result"
    }
   ],
   "source": [
    "class Averagescore(list):\n",
    "    @property\n",
    "    def average(self):\n",
    "        return sum(self)/len(self)\n",
    "a=Averagescore([92, 81, 77.5, 86, 100])\n",
    "a.average"
   ]
  },
  {
   "cell_type": "markdown",
   "metadata": {},
   "source": [
    "### Class and static method"
   ]
  },
  {
   "cell_type": "code",
   "execution_count": null,
   "metadata": {},
   "outputs": [
    {
     "name": "stdout",
     "output_type": "stream",
     "text": [
      "3\n"
     ]
    }
   ],
   "source": [
    "class mult:\n",
    "   \n",
    "    @staticmethod\n",
    "    def multiply(a,b):\n",
    "        return a*b\n",
    "m1=mult()\n",
    "print(m1.multiply(1,3)) #staticmethod can be called without creating an object of the class, it is like simple function"
   ]
  },
  {
   "cell_type": "code",
   "execution_count": 17,
   "metadata": {},
   "outputs": [
    {
     "name": "stdout",
     "output_type": "stream",
     "text": [
      "Vector(x=1, y=2)\n"
     ]
    }
   ],
   "source": [
    "class Vector:\n",
    "    def __init__(self, x: float,y:float):\n",
    "        self.x=x\n",
    "        self.y=y\n",
    "    def __str__(self):\n",
    "        return f\"Vector(x={self.x}, y={self.y})\"\n",
    "    @classmethod\n",
    "    def from_tuple(cls, coords: tuple[float, float]):\n",
    "        x,y=coords\n",
    "        return cls(x,y)\n",
    "v1=Vector(1,2)\n",
    "print(v1)"
   ]
  },
  {
   "cell_type": "code",
   "execution_count": 20,
   "metadata": {},
   "outputs": [
    {
     "name": "stdout",
     "output_type": "stream",
     "text": [
      "Vector(x=1, y=2)\n"
     ]
    }
   ],
   "source": [
    "v2=Vector.from_tuple(coords=(1,2))\n",
    "print(v2)"
   ]
  }
 ],
 "metadata": {
  "kernelspec": {
   "display_name": "Python 3",
   "language": "python",
   "name": "python3"
  },
  "language_info": {
   "codemirror_mode": {
    "name": "ipython",
    "version": 3
   },
   "file_extension": ".py",
   "mimetype": "text/x-python",
   "name": "python",
   "nbconvert_exporter": "python",
   "pygments_lexer": "ipython3",
   "version": "3.10.10"
  }
 },
 "nbformat": 4,
 "nbformat_minor": 2
}
