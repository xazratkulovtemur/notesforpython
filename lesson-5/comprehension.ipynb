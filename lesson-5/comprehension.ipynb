{
 "cells": [
  {
   "cell_type": "markdown",
   "metadata": {},
   "source": [
    "## Comprehensions\n",
    "\n",
    "List comprehensions\n",
    "\n",
    "Dictionary comprehension\n",
    "\n",
    "Set comprehension\n",
    "\n",
    "Generator expression"
   ]
  },
  {
   "cell_type": "markdown",
   "metadata": {},
   "source": [
    "### List comprehension"
   ]
  },
  {
   "cell_type": "code",
   "execution_count": null,
   "metadata": {},
   "outputs": [
    {
     "name": "stdout",
     "output_type": "stream",
     "text": [
      "[4, 9, 16, 25]\n"
     ]
    }
   ],
   "source": [
    "#normal code\n",
    "numbers=[2,3,4,5]\n",
    "square=[]\n",
    "for number in numbers:\n",
    "    square.append(number**2)\n",
    "\n",
    "print(square)\n",
    "\n"
   ]
  },
  {
   "cell_type": "markdown",
   "metadata": {},
   "source": [
    "``` \n",
    "<comprehension> for <item> in <sequence> if <condiotion>"
   ]
  },
  {
   "cell_type": "code",
   "execution_count": null,
   "metadata": {},
   "outputs": [
    {
     "name": "stdout",
     "output_type": "stream",
     "text": [
      "[4, 9, 16, 25]\n"
     ]
    }
   ],
   "source": [
    "#example1\n",
    "numbers=[2,3,4,5]\n",
    "square=[val**2 for val in numbers]\n",
    "\n",
    "print(square)"
   ]
  },
  {
   "cell_type": "code",
   "execution_count": null,
   "metadata": {},
   "outputs": [],
   "source": [
    "#example2\n",
    "numbers=[2,3,4,5]\n",
    "square=[val**2 for val in numbers if val%2==0]\n",
    "\n",
    "print(square)"
   ]
  },
  {
   "cell_type": "code",
   "execution_count": null,
   "metadata": {},
   "outputs": [
    {
     "name": "stdout",
     "output_type": "stream",
     "text": [
      "[(0, 0), (0, 1), (1, 0), (1, 1), (2, 0), (2, 1), (3, 0), (3, 1), (4, 0), (4, 1)]\n"
     ]
    }
   ],
   "source": [
    "#example3\n",
    "coordinates=[(x,y) for x in range(5) for y in range(2)]\n",
    "print(coordinates)"
   ]
  },
  {
   "cell_type": "code",
   "execution_count": null,
   "metadata": {},
   "outputs": [
    {
     "name": "stdout",
     "output_type": "stream",
     "text": [
      "[1, 2, 3, 4, 5, 6, 7, 8, 9]\n"
     ]
    }
   ],
   "source": [
    "\n",
    "#example4\n",
    "matrix=[[1,2,3], [4,5,6], [7,8,9]]\n",
    "flattened=[]\n",
    "for row in matrix:\n",
    "    for item in row:\n",
    "        flattened.append(item)\n",
    "\n",
    "print(flattened)"
   ]
  },
  {
   "cell_type": "code",
   "execution_count": null,
   "metadata": {},
   "outputs": [
    {
     "name": "stdout",
     "output_type": "stream",
     "text": [
      "[1, 2, 3, 4, 5, 6, 7, 8, 9]\n"
     ]
    }
   ],
   "source": [
    "#using List comprehension\n",
    "\n",
    "matrix=[[1,2,3], [4,5,6], [7,8,9]]\n",
    "flattened=[val for row in matrix for val in row]\n",
    "\n",
    "print(flattened)\n"
   ]
  },
  {
   "cell_type": "markdown",
   "metadata": {},
   "source": [
    "#### If there is nested loops :\n",
    "\n",
    "```\n",
    "<comprehension> + for <firstitem> in <first sequence> + for <second item> in <second sequence>\n",
    "```\n",
    "\n"
   ]
  },
  {
   "cell_type": "code",
   "execution_count": null,
   "metadata": {},
   "outputs": [
    {
     "name": "stdout",
     "output_type": "stream",
     "text": [
      "[2, 4, 6]\n"
     ]
    }
   ],
   "source": [
    "#example5\n",
    "\n",
    "numbers = [1, 2, 3, 4, 5, 6]\n",
    "even=[\"None bo`ldi\" if not print(val) else 0 for val in numbers if val%2==0]\n",
    "print(even)"
   ]
  },
  {
   "cell_type": "markdown",
   "metadata": {},
   "source": [
    "## Dictionary comprehension"
   ]
  },
  {
   "cell_type": "code",
   "execution_count": null,
   "metadata": {},
   "outputs": [
    {
     "name": "stdout",
     "output_type": "stream",
     "text": [
      "{'a': 1, 'b': 2, 'c': 3, 'd': 4, 'e': 5}\n"
     ]
    }
   ],
   "source": [
    "keys = ['a','b','c','d','e']   #if number of keys exceeds number of values, it will show error\n",
    "values = [1,2,3,4,5] #if number of values exceeds number of keys, it will ignore left values\n",
    "\n",
    "d={}\n",
    "\n",
    "for key, val in zip(keys, values): #zip() method merges two lists to make it dict\n",
    "    d[key]=val #this pairs them to be on new dict\n",
    "\n",
    "print(d)"
   ]
  },
  {
   "cell_type": "code",
   "execution_count": null,
   "metadata": {},
   "outputs": [
    {
     "name": "stdout",
     "output_type": "stream",
     "text": [
      "{'a': 1, 'b': 2, 'c': 3, 'd': 4, 'e': 5}\n"
     ]
    }
   ],
   "source": [
    "#example 1\n",
    "\n",
    "keys = ['a','b','c','d','e']\n",
    "values = [1,2,3,4,5]\n",
    "\n",
    "d={k:v for (k,v) in zip(keys, values)} #this also merge two lists and make it dictionary\n",
    "\n",
    "print(d)"
   ]
  },
  {
   "cell_type": "code",
   "execution_count": null,
   "metadata": {},
   "outputs": [
    {
     "name": "stdout",
     "output_type": "stream",
     "text": [
      "{1: 'a', 2: 'b', 3: 'c', 4: 'd', 5: 'e'}\n"
     ]
    }
   ],
   "source": [
    "#example2\n",
    "\n",
    "#to sort it reversely, we do it in this way\n",
    "\n",
    "d_reverse={v:k for (k,v) in zip(keys, values)}\n",
    "\n",
    "print(d_reverse)"
   ]
  },
  {
   "cell_type": "code",
   "execution_count": 18,
   "metadata": {},
   "outputs": [
    {
     "name": "stdout",
     "output_type": "stream",
     "text": [
      "{1: 1, 2: 4, 3: 9, 4: 16, 5: 25}\n"
     ]
    }
   ],
   "source": [
    "#example3\n",
    "\n",
    "numbers = [1, 2, 3, 4, 5]\n",
    "\n",
    "squares={num: num**2 for num in numbers}\n",
    "print(squares)"
   ]
  },
  {
   "cell_type": "code",
   "execution_count": null,
   "metadata": {},
   "outputs": [
    {
     "name": "stdout",
     "output_type": "stream",
     "text": [
      "1 apple\n",
      "2 cherry\n",
      "3 banana\n"
     ]
    }
   ],
   "source": [
    "#example4\n",
    "\n",
    "fruits = ['apple', 'cherry', 'banana']\n",
    "#enumerate() finds the indecies in list\n",
    "\n",
    "for i, item in enumerate(fruits, start=1):  #start=n  start indexing by n\n",
    "    print(i, item)\n",
    "\n"
   ]
  },
  {
   "cell_type": "code",
   "execution_count": null,
   "metadata": {},
   "outputs": [
    {
     "name": "stdout",
     "output_type": "stream",
     "text": [
      "{0: {1: 1, 2: 4, 3: 9}, 1: {4: 16, 5: 25, 6: 36}, 2: {7: 49, 8: 64, 9: 81}}\n"
     ]
    }
   ],
   "source": [
    "# example 5\n",
    "matrix = [\n",
    "    [1, 2, 3],\n",
    "    [4, 5, 6],\n",
    "    [7, 8, 9]\n",
    "]\n",
    " \n",
    "matrix_squares={pos: {num: num**2 for num in row} for pos, row in enumerate(matrix)} #we can do nested comprehensions\n",
    "\n",
    "print(matrix_squares)"
   ]
  },
  {
   "cell_type": "markdown",
   "metadata": {},
   "source": [
    "## Set comprehensions"
   ]
  },
  {
   "cell_type": "code",
   "execution_count": 23,
   "metadata": {},
   "outputs": [
    {
     "name": "stdout",
     "output_type": "stream",
     "text": [
      "['Python', 'is', 'an', 'interpreted', 'object-oriented', 'high-level', 'programming', 'language', 'with', 'dynamic', 'semantics', 'Its', 'high-level', 'built', 'in', 'data', 'structures', 'combined', 'with', 'dynamic', 'typing', 'and', 'dynamic', 'binding', 'make', 'it', 'very', 'attractive', 'for', 'Rapid', 'Application', 'Development', 'as', 'well', 'as', 'for', 'use', 'as', 'a', 'scripting', 'or', 'glue', 'language', 'to', 'connect', 'existing', 'components', 'together', \"Python's\", 'simple', 'easy', 'to', 'learn', 'syntax', 'emphasizes', 'readability', 'and', 'therefore', 'reduces', 'the', 'cost', 'of', 'program', 'maintenance', 'Python', 'supports', 'modules', 'and', 'packages', 'which', 'encourages', 'program', 'modularity', 'and', 'code', 'reuse']\n"
     ]
    }
   ],
   "source": [
    "letter = \"\"\"Python is an interpreted, object-oriented, \n",
    "high-level programming language with dynamic semantics. \n",
    "Its high-level built in data structures, combined with \n",
    "dynamic typing and dynamic binding, make it very attractive \n",
    "for Rapid Application Development, as well as for use as \n",
    "a scripting or glue language to connect existing components \n",
    "together. Python's simple, easy to learn syntax emphasizes \n",
    "readability and therefore reduces the cost of program \n",
    "maintenance. Python supports modules and packages, which \n",
    "encourages program modularity and code reuse.\"\"\"\n",
    "\n",
    "\n",
    "cleaned=letter.replace('.', '')\\\n",
    ".replace(',', '')\\\n",
    ".replace('\\n', '')\\\n",
    ".split()\n",
    "\n",
    "print(cleaned)"
   ]
  },
  {
   "cell_type": "code",
   "execution_count": 24,
   "metadata": {},
   "outputs": [
    {
     "name": "stdout",
     "output_type": "stream",
     "text": [
      "['is', 'an', 'in', 'it', 'as', 'a', 'or', 'to', 'of']\n"
     ]
    }
   ],
   "source": [
    "unique_words=[]\n",
    "for word in cleaned: \n",
    "    if len(word)<3 and word not in unique_words:\n",
    "        unique_words.append(word)\n",
    "\n",
    "print(unique_words)"
   ]
  },
  {
   "cell_type": "code",
   "execution_count": 27,
   "metadata": {},
   "outputs": [
    {
     "name": "stdout",
     "output_type": "stream",
     "text": [
      "{'as', 'a', 'it', 'to', 'is', 'or', 'in', 'an', 'of'}\n"
     ]
    }
   ],
   "source": [
    "#if we write code wtih comrpehension, it will be compact\n",
    "\n",
    "unique_words={word for word in cleaned if len(word)<3}\n",
    "\n",
    "print(unique_words)"
   ]
  },
  {
   "cell_type": "markdown",
   "metadata": {},
   "source": [
    "## Generator expressions"
   ]
  },
  {
   "cell_type": "code",
   "execution_count": null,
   "metadata": {},
   "outputs": [
    {
     "name": "stdout",
     "output_type": "stream",
     "text": [
      "0\n",
      "----------\n",
      "1\n",
      "4\n",
      "9\n"
     ]
    }
   ],
   "source": [
    "a=(num**2 for num in range(4))\n",
    "\n",
    "# if i simply say print(a), it will not show numbers. I need to use lists or next() or for loop \n",
    "#print(list(a))\n",
    "\n",
    "print(next(a))\n",
    "#next() shows only one element\n",
    "\n",
    "print('-'*10)\n",
    "\n",
    "for i in a:\n",
    "    print(i)"
   ]
  },
  {
   "cell_type": "code",
   "execution_count": 37,
   "metadata": {},
   "outputs": [
    {
     "name": "stdout",
     "output_type": "stream",
     "text": [
      "220\n"
     ]
    }
   ],
   "source": [
    "sum_even_squares=sum(num**2 for num in range(11) if num%2==0)\n",
    "print(sum_even_squares)"
   ]
  }
 ],
 "metadata": {
  "kernelspec": {
   "display_name": "Python 3",
   "language": "python",
   "name": "python3"
  },
  "language_info": {
   "codemirror_mode": {
    "name": "ipython",
    "version": 3
   },
   "file_extension": ".py",
   "mimetype": "text/x-python",
   "name": "python",
   "nbconvert_exporter": "python",
   "pygments_lexer": "ipython3",
   "version": "3.10.10"
  }
 },
 "nbformat": 4,
 "nbformat_minor": 2
}
