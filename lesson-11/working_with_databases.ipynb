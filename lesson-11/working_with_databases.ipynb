{
 "cells": [
  {
   "cell_type": "code",
   "execution_count": 4,
   "metadata": {},
   "outputs": [],
   "source": [
    "import sqlite3\n",
    "\n",
    "\n",
    "conn = sqlite3.connect(\"example.db\")  # Creates a file-based database\n",
    "conn.close()  #we create file with connect()\n"
   ]
  },
  {
   "cell_type": "code",
   "execution_count": 5,
   "metadata": {},
   "outputs": [
    {
     "ename": "OperationalError",
     "evalue": "table users already exists",
     "output_type": "error",
     "traceback": [
      "\u001b[1;31m---------------------------------------------------------------------------\u001b[0m",
      "\u001b[1;31mOperationalError\u001b[0m                          Traceback (most recent call last)",
      "Cell \u001b[1;32mIn[5], line 3\u001b[0m\n\u001b[0;32m      1\u001b[0m conn \u001b[38;5;241m=\u001b[39m sqlite3\u001b[38;5;241m.\u001b[39mconnect(\u001b[38;5;124m\"\u001b[39m\u001b[38;5;124mexample.db\u001b[39m\u001b[38;5;124m\"\u001b[39m)\n\u001b[0;32m      2\u001b[0m cursor\u001b[38;5;241m=\u001b[39mconn\u001b[38;5;241m.\u001b[39mcursor()\n\u001b[1;32m----> 3\u001b[0m \u001b[43mcursor\u001b[49m\u001b[38;5;241;43m.\u001b[39;49m\u001b[43mexecute\u001b[49m\u001b[43m(\u001b[49m\u001b[38;5;124;43m\"\u001b[39;49m\u001b[38;5;124;43mCREATE TABLE users (id INTEGER PRIMARY KEY, name TEXT, age INTEGER)\u001b[39;49m\u001b[38;5;124;43m\"\u001b[39;49m\u001b[43m)\u001b[49m\n\u001b[0;32m      4\u001b[0m conn\u001b[38;5;241m.\u001b[39mcommit()\n\u001b[0;32m      5\u001b[0m conn\u001b[38;5;241m.\u001b[39mclose()\n",
      "\u001b[1;31mOperationalError\u001b[0m: table users already exists"
     ]
    }
   ],
   "source": [
    "conn = sqlite3.connect(\"example.db\")\n",
    "cursor=conn.cursor()\n",
    "cursor.execute(\"CREATE TABLE users (id INTEGER PRIMARY KEY, name TEXT, age INTEGER)\")\n",
    "conn.commit()\n",
    "conn.close()"
   ]
  },
  {
   "cell_type": "code",
   "execution_count": null,
   "metadata": {},
   "outputs": [
    {
     "data": {
      "text/plain": [
       "<sqlite3.Cursor at 0x171675ca640>"
      ]
     },
     "execution_count": 6,
     "metadata": {},
     "output_type": "execute_result"
    }
   ],
   "source": [
    "cursor.execute(\"INSERT INTO users (name, age) VALUES ('Alice', 25)\")\n"
   ]
  },
  {
   "cell_type": "code",
   "execution_count": null,
   "metadata": {},
   "outputs": [],
   "source": [
    "con=sqlite3.connect(\":memory:\")\n",
    "query=\"Select datetime('now', 'localtime')\"\n",
    "cursor=con.cursor()\n",
    "time=cursor.execute(query)\n",
    "#time.fetchall()      #bring every data\n",
    "time.fetchmany()   #bring  specified data  fetchmany(n)\n",
    " #time.fetchone() #bring only one\n",
    "\n",
    "con.close()"
   ]
  },
  {
   "cell_type": "code",
   "execution_count": null,
   "metadata": {},
   "outputs": [],
   "source": [
    "import sqlite3\n",
    "with sqlite3.connect(\"students.db\") as connection:\n",
    "    cursor=connection.cursor()\n",
    "    query=\"Create table Students(fname text, lname text, age int);\"\n",
    "    data=cursor.execute(query)\n",
    "    "
   ]
  },
  {
   "cell_type": "code",
   "execution_count": null,
   "metadata": {},
   "outputs": [],
   "source": [
    "with sqlite3.connect(\"students.db\") as connection:\n",
    "    cursor=connection.cursor()\n",
    "    query=\"Insert into Students Values('Temur', 'Xazratqulov', 18)\"\n",
    "    data=cursor.execute(query)\n"
   ]
  },
  {
   "cell_type": "code",
   "execution_count": null,
   "metadata": {},
   "outputs": [],
   "source": [
    "with sqlite3.connect(\"students.db\") as file:\n",
    "    cursor=file.cursor()\n",
    "    query=\"Insert into Students Values('Aziz', 'Xazratqulov', 14)\"\n",
    "    data=cursor.execute(query)"
   ]
  },
  {
   "cell_type": "code",
   "execution_count": null,
   "metadata": {},
   "outputs": [],
   "source": [
    "#Instead of writing code each time, we can do following\n",
    "\n",
    "create = \"\"\"\n",
    "    Create table Students(fname text, lname text, age int, GPA float);\n",
    "\"\"\"\n",
    "data = \"\"\"\n",
    "    \"Insert into Student Values('John', 'Whick', 20, 3.5),('John', 'Whick', 20, 3.5),('John', 'Whick', 20, 3.5),('John', 'Whick', 20, 3.5),('John', 'Whick', 20, 3.5),('John', 'Whick', 20, 3.5),('John', 'Whick', 20, 3.5);\"\n",
    "\"\"\""
   ]
  },
  {
   "cell_type": "code",
   "execution_count": null,
   "metadata": {},
   "outputs": [],
   "source": [
    "import sqlite3\n",
    "delete =\"\"\"\n",
    "    Drop table Students\n",
    "\"\"\"\n",
    "with sqlite3.connect(\"students.db\") as con:\n",
    "    cursor=con.cursor()\n",
    "    cursor.execute(delete) \n",
    "#Drop table deletes the table\n",
    "#we can add condition\n",
    "#Drop table if exists Students"
   ]
  },
  {
   "cell_type": "code",
   "execution_count": 9,
   "metadata": {},
   "outputs": [],
   "source": [
    "sql = \"\"\"\n",
    "    Drop table if exists Students;\n",
    "\n",
    "    Create table Students(fname text, lname text, age int, GPA float);\n",
    "\n",
    "    Insert into Students Values('Temur', 'Xazratqulov', 17, 3.625), ('John', 'Whick', 21, 4), ('Muhammadjon', 'Uralov', 18, 4.125);\n",
    "\"\"\"\n"
   ]
  },
  {
   "cell_type": "code",
   "execution_count": 10,
   "metadata": {},
   "outputs": [],
   "source": [
    "import sqlite3\n",
    "with sqlite3.connect(\"studentsss.db\") as con:\n",
    "    cursor=con.cursor()\n",
    "    table=cursor.executescript(sql) #executescript() is for several commands in query"
   ]
  },
  {
   "cell_type": "code",
   "execution_count": null,
   "metadata": {},
   "outputs": [
    {
     "data": {
      "text/plain": [
       "[('John', 'Whick', 21, 4.0), ('Muhammadjon', 'Uralov', 18, 4.125)]"
      ]
     },
     "execution_count": 16,
     "metadata": {},
     "output_type": "execute_result"
    }
   ],
   "source": [
    "with sqlite3.connect(\"studentsss.db\") as con:\n",
    "    cursor=con.cursor()\n",
    "    query=\"Select * from Students order by age desc\"\n",
    "    data=cursor.execute(query)\n",
    "data.fetchmany(2)"
   ]
  },
  {
   "cell_type": "code",
   "execution_count": null,
   "metadata": {},
   "outputs": [],
   "source": [
    "student_data = (\n",
    "    ('Ali', 'Valiyev', 19, 3.4),\n",
    "    ('Ali', 'Valiyev', 19, 3.4),\n",
    "    ('Ali', 'Valiyev', 19, 3.4),\n",
    "    ('Ali', 'Valiyev', 19, 3.4),\n",
    "    ('Ali', 'Valiyev', 19, 3.4),\n",
    "    ('Ali', 'Valiyev', 19, 3.4),\n",
    "    ('Ali', 'Valiyev', 19, 3.4),\n",
    ")"
   ]
  },
  {
   "cell_type": "code",
   "execution_count": null,
   "metadata": {},
   "outputs": [],
   "source": [
    "import sqlite3\n",
    "with sqlite3.connect(\"studentsss.db\") as con:\n",
    "    cursor=con.cursor()\n",
    "    cursor.executemany(\"Insert into Students Values(?,?,?,?)\", student_data)      "
   ]
  },
  {
   "cell_type": "code",
   "execution_count": null,
   "metadata": {},
   "outputs": [],
   "source": [
    "cursor.execute(\"UPDATE Roster SET name='Ezri Dax' WHERE age=300\") #we can update by this way\n",
    "\n",
    "data=cursor.execute(\"Select Name, age from Roster where species='Bajoran'\")\n",
    "print(data.fetchall()) #\n",
    "print(data.fetchall()) #displaying\n",
    "\n",
    "cursor.execute(\"Delete from Roster where age>100\") #delete\n",
    "\n",
    "rank = \"\"\"\n",
    "    ALTER TABLE Roster ADD COLUMN Rank TEXT;\n",
    "\n",
    "    UPDATE Roster SET Rank = 'Captain' WHERE Name = 'Benjamin Sisko';\n",
    "    UPDATE Roster SET Rank = 'Major' WHERE Name = 'Kira Nerys';\n",
    "\"\"\" \n",
    "cursor.executescript(rank) #adding new column\n",
    "\n",
    "all=cursor.execute(\"Select * from  Roster order by age desc\")\n",
    "print(all.fetchall()) #display"
   ]
  },
  {
   "cell_type": "code",
   "execution_count": 15,
   "metadata": {},
   "outputs": [
    {
     "ename": "OperationalError",
     "evalue": "no such column: Temur",
     "output_type": "error",
     "traceback": [
      "\u001b[1;31m---------------------------------------------------------------------------\u001b[0m",
      "\u001b[1;31mOperationalError\u001b[0m                          Traceback (most recent call last)",
      "Cell \u001b[1;32mIn[15], line 5\u001b[0m\n\u001b[0;32m      1\u001b[0m \u001b[38;5;28;01mwith\u001b[39;00m sqlite3\u001b[38;5;241m.\u001b[39mconnect(\u001b[38;5;124m\"\u001b[39m\u001b[38;5;124mstudentsss.db\u001b[39m\u001b[38;5;124m\"\u001b[39m) \u001b[38;5;28;01mas\u001b[39;00m conn:\n\u001b[0;32m      2\u001b[0m     cursor\u001b[38;5;241m=\u001b[39mconn\u001b[38;5;241m.\u001b[39mcursor()\n\u001b[1;32m----> 5\u001b[0m     \u001b[43mcursor\u001b[49m\u001b[38;5;241;43m.\u001b[39;49m\u001b[43mexecute\u001b[49m\u001b[43m(\u001b[49m\u001b[38;5;124;43m\"\u001b[39;49m\u001b[38;5;124;43mUPDATE Students SET Course = 1 where fname = Temur\u001b[39;49m\u001b[38;5;124;43m\"\u001b[39;49m\u001b[43m)\u001b[49m\n",
      "\u001b[1;31mOperationalError\u001b[0m: no such column: Temur"
     ]
    }
   ],
   "source": [
    "with sqlite3.connect(\"studentsss.db\") as conn:\n",
    "    cursor=conn.cursor()\n",
    "\n",
    "    \n",
    "    cursor.execute(\"UPDATE Students SET Course = 1 where fname = Temur\")"
   ]
  }
 ],
 "metadata": {
  "kernelspec": {
   "display_name": "Python 3",
   "language": "python",
   "name": "python3"
  },
  "language_info": {
   "codemirror_mode": {
    "name": "ipython",
    "version": 3
   },
   "file_extension": ".py",
   "mimetype": "text/x-python",
   "name": "python",
   "nbconvert_exporter": "python",
   "pygments_lexer": "ipython3",
   "version": "3.10.10"
  }
 },
 "nbformat": 4,
 "nbformat_minor": 2
}
