{
 "cells": [
  {
   "cell_type": "markdown",
   "metadata": {},
   "source": [
    "## Loops\n"
   ]
  },
  {
   "cell_type": "code",
   "execution_count": null,
   "metadata": {},
   "outputs": [],
   "source": [
    "#while  is used for loops\n",
    "a=5\n",
    "while True:\n",
    "    print(\"Still running\")\n",
    "    a+=1\n",
    "    if a>10:\n",
    "        break\n"
   ]
  },
  {
   "cell_type": "code",
   "execution_count": null,
   "metadata": {},
   "outputs": [],
   "source": [
    "age=1\n",
    "while age<30:\n",
    "    \n",
    "    age +=1\n",
    "    if age ==10:\n",
    "        continue #this is used to skip statement for conditions\n",
    "    print(\"Your age is\", age)   "
   ]
  },
  {
   "cell_type": "code",
   "execution_count": 7,
   "metadata": {},
   "outputs": [
    {
     "name": "stdout",
     "output_type": "stream",
     "text": [
      "Not found\n"
     ]
    }
   ],
   "source": [
    "l=[1,2,3,4,5,6,7,8]\n",
    "i=0\n",
    "check=9 \n",
    "while i<len(l):\n",
    "    if l[i]==check:\n",
    "        print(\"Found\")\n",
    "        break\n",
    "    i+=1\n",
    "else: \n",
    "    print(\"Not found\")"
   ]
  },
  {
   "cell_type": "code",
   "execution_count": null,
   "metadata": {},
   "outputs": [],
   "source": [
    "list1= [1,2,3,4]\n",
    "other_list=[]\n",
    "i=0\n",
    "while i< len(list1):\n",
    "    a=list1[i]\n",
    "    other_list.append(a**2)\n",
    "    i+=1\n",
    "print(other_list)\n"
   ]
  },
  {
   "cell_type": "markdown",
   "metadata": {},
   "source": [
    "### For loop"
   ]
  },
  {
   "cell_type": "code",
   "execution_count": 3,
   "metadata": {},
   "outputs": [
    {
     "name": "stdout",
     "output_type": "stream",
     "text": [
      "[1, 4, 9]\n"
     ]
    }
   ],
   "source": [
    "list1=[1,2,3]\n",
    "empty_list=[]\n",
    "for a in list1:\n",
    "    empty_list.append(a**2)\n",
    "print(empty_list)"
   ]
  },
  {
   "cell_type": "code",
   "execution_count": 5,
   "metadata": {},
   "outputs": [
    {
     "name": "stdout",
     "output_type": "stream",
     "text": [
      "['a', 'e', 'i']\n"
     ]
    }
   ],
   "source": [
    "my_str='asaeefqi'\n",
    "list2=[]\n",
    "vowels='aeiou'\n",
    "for char in vowels:\n",
    "    if char in my_str:\n",
    "        list2+=char\n",
    "        \n",
    "print(list2)\n",
    "        \n",
    "        \n"
   ]
  },
  {
   "cell_type": "code",
   "execution_count": null,
   "metadata": {},
   "outputs": [],
   "source": [
    "#print(tuple(range(1,100)))"
   ]
  },
  {
   "cell_type": "code",
   "execution_count": 46,
   "metadata": {},
   "outputs": [],
   "source": [
    "#for i in range(a, b, c)\n",
    "#a = starting point\n",
    "#b = ending point\n",
    "#c = steps\n",
    "for num in range(10, 20, -1):\n",
    "    \n",
    "    print(num)"
   ]
  },
  {
   "cell_type": "code",
   "execution_count": null,
   "metadata": {},
   "outputs": [],
   "source": [
    "for num in range(10, 20, 2):\n",
    "    \n",
    "    print(num)\n",
    "\n",
    "#if we want steps to be negative: it should be a > b"
   ]
  },
  {
   "cell_type": "code",
   "execution_count": 50,
   "metadata": {},
   "outputs": [
    {
     "name": "stdout",
     "output_type": "stream",
     "text": [
      "10\n",
      "8\n",
      "6\n",
      "4\n"
     ]
    }
   ],
   "source": [
    "for i in range(10, 2, -2): \n",
    "    print(i)"
   ]
  }
 ],
 "metadata": {
  "kernelspec": {
   "display_name": "Python 3",
   "language": "python",
   "name": "python3"
  },
  "language_info": {
   "codemirror_mode": {
    "name": "ipython",
    "version": 3
   },
   "file_extension": ".py",
   "mimetype": "text/x-python",
   "name": "python",
   "nbconvert_exporter": "python",
   "pygments_lexer": "ipython3",
   "version": "3.10.10"
  }
 },
 "nbformat": 4,
 "nbformat_minor": 2
}
