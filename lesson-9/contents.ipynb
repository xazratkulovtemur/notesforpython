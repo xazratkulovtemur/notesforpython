{
 "cells": [
  {
   "cell_type": "markdown",
   "metadata": {},
   "source": []
  },
  {
   "cell_type": "code",
   "execution_count": null,
   "metadata": {},
   "outputs": [
    {
     "name": "stdout",
     "output_type": "stream",
     "text": [
      "Some error occured\n"
     ]
    }
   ],
   "source": [
    "#example 1\n",
    "class CustomException(Exception):\n",
    "    def __init__(self, *args):\n",
    "        self.args=args\n",
    "try:\n",
    "    raise CustomException(\"Some error occured\")\n",
    "except CustomException as e:\n",
    "    print(e)\n"
   ]
  },
  {
   "cell_type": "code",
   "execution_count": null,
   "metadata": {},
   "outputs": [
    {
     "name": "stdout",
     "output_type": "stream",
     "text": [
      "('It cannot be empty', '404')\n",
      "Username is invalid\n"
     ]
    }
   ],
   "source": [
    "#example 2\n",
    "class ValidationError(Exception):\n",
    "    def __init__(self, msg, *args, **kwargs):\n",
    "        self.msg=msg\n",
    "        self.args=args\n",
    "        self.kwargs=kwargs\n",
    "try:\n",
    "    raise ValidationError(\"Username is invalid\", \"It cannot be empty\", \"404\")\n",
    "except ValidationError as e:\n",
    "    print(e)\n",
    "    print(e.msg)"
   ]
  },
  {
   "cell_type": "code",
   "execution_count": 7,
   "metadata": {},
   "outputs": [
    {
     "name": "stdout",
     "output_type": "stream",
     "text": [
      "Something went wrong: File is unreachable\n"
     ]
    }
   ],
   "source": [
    "#example 3\n",
    "\n",
    "class FileError(Exception):\n",
    "    pass\n",
    "\n",
    "try:\n",
    "    raise FileError(\"File is unreachable\")\n",
    "except FileError as e:\n",
    "    print(f\"Something went wrong: {e}\")"
   ]
  },
  {
   "cell_type": "markdown",
   "metadata": {},
   "source": [
    "### CSV files"
   ]
  },
  {
   "cell_type": "code",
   "execution_count": 8,
   "metadata": {},
   "outputs": [
    {
     "name": "stdout",
     "output_type": "stream",
     "text": [
      "['booker12', 'grey07', 'johnson81', 'jenkins46', 'smith79']\n"
     ]
    }
   ],
   "source": [
    "with open(\"information.csv\", 'rt') as file:\n",
    "    lines=file.read().splitlines()\n",
    "    usernames=[row.split(\",\")[0] for row in lines[1:]]\n",
    "    print(usernames) "
   ]
  },
  {
   "cell_type": "code",
   "execution_count": 11,
   "metadata": {},
   "outputs": [
    {
     "name": "stdout",
     "output_type": "stream",
     "text": [
      "['Rachel', 'Laura', 'Craig', 'Mary', 'Jamie']\n"
     ]
    }
   ],
   "source": [
    "with open(\"information.csv\", 'rt') as file:\n",
    "    lines=file.read().splitlines()\n",
    "    firstname=[row.split(\",\")[2] for row in lines[1:]]\n",
    "    print(firstname)\n"
   ]
  },
  {
   "cell_type": "code",
   "execution_count": 13,
   "metadata": {},
   "outputs": [
    {
     "name": "stdout",
     "output_type": "stream",
     "text": [
      "['Booker', 'Grey', 'Johnson', 'Jenkins', 'Smith']\n"
     ]
    }
   ],
   "source": [
    "with open(\"information.csv\", 'rt') as file:\n",
    "    lines=file.read().splitlines()\n",
    "    lastname=[row.split(\",\")[3] for row in lines[1:]]\n",
    "    print(lastname)"
   ]
  },
  {
   "cell_type": "code",
   "execution_count": null,
   "metadata": {},
   "outputs": [
    {
     "name": "stdout",
     "output_type": "stream",
     "text": [
      "['booker12', '9012', 'Rachel', 'Booker']\n",
      "['grey07', '2070', 'Laura', 'Grey']\n",
      "['johnson81', '4081', 'Craig', 'Johnson']\n",
      "['jenkins46', '9346', 'Mary', 'Jenkins']\n",
      "['smith79', '5079', 'Jamie', 'Smith']\n",
      "Header: ['Username', 'Identifier', 'First name', 'Last name']\n"
     ]
    }
   ],
   "source": [
    "import csv\n",
    "with open(\"information.csv\", 'rt') as file:\n",
    "    reader=csv.reader(file) #to read csv file, we use csv.reader() method\n",
    "    header=next(reader) #first row, and it is skipped\n",
    "    for row in reader:\n",
    "        print(row)\n",
    "    print(f\"Header: {header}\")"
   ]
  },
  {
   "cell_type": "code",
   "execution_count": null,
   "metadata": {},
   "outputs": [
    {
     "name": "stdout",
     "output_type": "stream",
     "text": [
      "{'Username': 'booker12', 'Identifier': '9012', 'First name': 'Rachel', 'Last name': 'Booker'}\n",
      "{'Username': 'grey07', 'Identifier': '2070', 'First name': 'Laura', 'Last name': 'Grey'}\n",
      "{'Username': 'johnson81', 'Identifier': '4081', 'First name': 'Craig', 'Last name': 'Johnson'}\n",
      "{'Username': 'jenkins46', 'Identifier': '9346', 'First name': 'Mary', 'Last name': 'Jenkins'}\n",
      "{'Username': 'smith79', 'Identifier': '5079', 'First name': 'Jamie', 'Last name': 'Smith'}\n"
     ]
    }
   ],
   "source": [
    "with open(\"information.csv\", 'rt') as file:\n",
    "    content=csv.DictReader(file) #csv.DictReader() method is used to read csv file as dictionary\n",
    "    for row in content:\n",
    "        print(row)"
   ]
  },
  {
   "cell_type": "code",
   "execution_count": 35,
   "metadata": {},
   "outputs": [],
   "source": [
    "import csv\n",
    "\n",
    "data = [\n",
    "    [\"Name\", \"Age\", \"City\"],\n",
    "    [\"Alice\", 25, \"New York\"],\n",
    "    [\"Bob\", 31, \"San Francisco\"]\n",
    "]\n",
    "\n",
    "with open(\"filetoupload.csv\", 'w', newline=\"\") as file:\n",
    "    writer=csv.writer(file)\n",
    "    writer.writerows(data)"
   ]
  },
  {
   "cell_type": "code",
   "execution_count": 53,
   "metadata": {},
   "outputs": [],
   "source": [
    "#writing dict file\n",
    "\n",
    "data = [\n",
    "    {\"Name\": \"Alice\", \"Age\": 24, \"City\": \"New York\"},\n",
    "    {\"Name\": \"Bob\", \"Age\": 30, \"City\": \"San Francisco\"}\n",
    "]\n",
    "with open(\"filetoupload.csv\", 'w', newline=\"\") as file:\n",
    "    fieldnames=[\"Name\", \"Age\", \"City\"]\n",
    "    writer=csv.DictWriter(file, fieldnames=fieldnames)\n",
    "    writer.writeheader()\n",
    "    writer.writerows(data)\n",
    "\n",
    "data2 = [\n",
    "    {\"Name\":'Charlie',\"Age\": 35, \"City\": 'Chicago'},\n",
    "    {\"Name\":'Diana',\"Age\" : 40, \"City\": 'Boston'}\n",
    "]\n",
    "with open(\"filetoupload.csv\", 'a', newline=\"\") as file:\n",
    "    writer=csv.DictWriter(file, fieldnames=fieldnames)\n",
    "    writer.writerows(data2)\n",
    "with open(\"filetoupload.csv\", 'r') as file:\n",
    "    reader=csv.reader(file)\n",
    "    for _ in range(5):\n",
    "        next(reader)\n",
    "    for row in reader:\n",
    "        print(row)"
   ]
  },
  {
   "cell_type": "markdown",
   "metadata": {},
   "source": [
    "### JSON file\n"
   ]
  },
  {
   "cell_type": "code",
   "execution_count": 59,
   "metadata": {},
   "outputs": [
    {
     "name": "stdout",
     "output_type": "stream",
     "text": [
      "{'users': [{'id': 1, 'name': 'Alice Johnson', 'email': 'alice.johnson@example.com', 'isActive': True, 'roles': ['admin', 'editor'], 'profile': {'age': 30, 'city': 'New York', 'joined': '2023-01-15'}}, {'id': 2, 'name': 'Bob Smith', 'email': 'bob.smith@example.com', 'isActive': False, 'roles': ['viewer'], 'profile': {'age': 25, 'city': 'Los Angeles', 'joined': '2022-09-10'}}], 'settings': {'theme': 'dark', 'notifications': {'email': True, 'sms': False}, 'version': 1.2}, 'metadata': {'createdBy': 'system', 'createdAt': '2025-01-06T10:30:00Z', 'tags': ['example', 'sample', 'json']}}\n"
     ]
    }
   ],
   "source": [
    "import json\n",
    "with open(\"users.json\", 'r') as file:\n",
    "    data=json.load(file) #load() method to read json file\n",
    "    print(data)"
   ]
  },
  {
   "cell_type": "code",
   "execution_count": 60,
   "metadata": {},
   "outputs": [],
   "source": [
    "data = {\n",
    "    \"name\": \"Alice\",\n",
    "    \"age\": 25,\n",
    "    \"city\": \"New York\",\n",
    "    \"skills\": [\"Python\", \"Data Science\", \"Machine Learning\"]\n",
    "}\n",
    "with open(\"users.json\", 'w') as file:\n",
    "    json.dump(data, file, indent=4)"
   ]
  },
  {
   "cell_type": "code",
   "execution_count": 76,
   "metadata": {},
   "outputs": [],
   "source": [
    "#writing in json\n",
    "\n",
    "data = {\n",
    "    \"name\": \"Alice\",\n",
    "    \"age\": 30,\n",
    "    \"city\": \"New York\",\n",
    "    \"employed\": True\n",
    "} \n",
    "\n",
    "\n",
    "with open(\"data1.json\", 'w') as file:\n",
    "    file.write('{\\n')\n",
    "    n=len(data)\n",
    "    i=1\n",
    "    for k, v in data.items():\n",
    "        comma=\",\" if i!=n else \"\"\n",
    "        if isinstance(v, str):\n",
    "            v=' \" ' + v + ' \" '\n",
    "        elif isinstance(v, bool):\n",
    "            v=str(v).lower()\n",
    "        file.write(4*\" \" + f'\"{k}\": {v}{comma}\\n')\n",
    "        i+=1\n",
    "    file.write('}\\n')\n"
   ]
  },
  {
   "cell_type": "code",
   "execution_count": 65,
   "metadata": {},
   "outputs": [
    {
     "name": "stdout",
     "output_type": "stream",
     "text": [
      "{'name': 'Bob', 'age': 25, 'city': 'Los Angeles'}\n",
      "Los Angeles\n"
     ]
    }
   ],
   "source": [
    "#parsing json strings\n",
    "\n",
    "json_string = '{\"name\": \"Bob\", \"age\": 25, \"city\": \"Los Angeles\"}'\n",
    "data=json.loads(json_string)\n",
    "print(data)\n",
    "print(data['city'])"
   ]
  },
  {
   "cell_type": "code",
   "execution_count": null,
   "metadata": {},
   "outputs": [
    {
     "name": "stdout",
     "output_type": "stream",
     "text": [
      "{\n",
      "    \"name\": \"Charlie\",\n",
      "    \"age\": 35,\n",
      "    \"city\": \"Chicago\"\n",
      "}\n"
     ]
    }
   ],
   "source": [
    "#converting to json file\n",
    "data = {\n",
    "    \"name\": \"Charlie\",\n",
    "    \"age\": 35,\n",
    "    \"city\": \"Chicago\"\n",
    "}\n",
    "json_string=json.dumps(data, indent=4)\n",
    "print(json_string)"
   ]
  },
  {
   "cell_type": "code",
   "execution_count": null,
   "metadata": {},
   "outputs": [
    {
     "name": "stdout",
     "output_type": "stream",
     "text": [
      "77001\n"
     ]
    }
   ],
   "source": [
    "json_string = '''\n",
    "{\n",
    "    \"user\": {\n",
    "        \"name\": \"Frank\",\n",
    "        \"address\": {\n",
    "            \"city\": \"Houston\",\n",
    "            \"zipcode\": \"77001\"\n",
    "        }\n",
    "    }\n",
    "}\n",
    "'''\n",
    "\n",
    "data=json.loads(json_string)\n",
    "print(data[\"user\"][\"address\"][\"zipcode\"]) #reading nested json file"
   ]
  },
  {
   "cell_type": "code",
   "execution_count": 78,
   "metadata": {},
   "outputs": [],
   "source": [
    "data = [\n",
    "    {\"name\": \"Alice\", \"age\": 25, \"city\": \"New York\"},\n",
    "    {\"name\": \"Bob\", \"age\": 30, \"city\": \"San Francisco\"}\n",
    "]\n",
    "\n",
    "with open(\"data1.json\", 'a') as file:\n",
    "    json.dump(data, file, indent=4)"
   ]
  }
 ],
 "metadata": {
  "kernelspec": {
   "display_name": "Python 3",
   "language": "python",
   "name": "python3"
  },
  "language_info": {
   "codemirror_mode": {
    "name": "ipython",
    "version": 3
   },
   "file_extension": ".py",
   "mimetype": "text/x-python",
   "name": "python",
   "nbconvert_exporter": "python",
   "pygments_lexer": "ipython3",
   "version": "3.10.10"
  }
 },
 "nbformat": 4,
 "nbformat_minor": 2
}
