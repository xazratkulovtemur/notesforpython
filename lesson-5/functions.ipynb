{
 "cells": [
  {
   "cell_type": "markdown",
   "metadata": {},
   "source": [
    "# Functions\n",
    "\n",
    "- **Defining functions**\n",
    "- **Arguments:** \n",
    "-       Positional, Keyword**\n",
    "-     **Positional only, Keyword only**\n",
    "-     **Default**\n",
    "-     **Arbitary**\n",
    "- **Lambda expressions**\n"
   ]
  },
  {
   "cell_type": "markdown",
   "metadata": {},
   "source": [
    "```\n",
    "def function_name(parameters):  # Function Header\n",
    "    \"\"\"Optional docstring to describe the function\"\"\"  # Documentation (Optional)\n",
    "    \n",
    "    # Function Body: The logic of the function\n",
    "    statement(s)\n",
    "\n",
    "    return value  # Optional return statement\n",
    "```"
   ]
  },
  {
   "cell_type": "code",
   "execution_count": null,
   "metadata": {},
   "outputs": [
    {
     "name": "stdout",
     "output_type": "stream",
     "text": [
      "Welcome to Python\n"
     ]
    }
   ],
   "source": [
    "#example\n",
    "def welcome():  #Function\n",
    "    print(\"Welcome to Python\") #statement\n",
    "welcome() #calling\n"
   ]
  },
  {
   "cell_type": "code",
   "execution_count": null,
   "metadata": {},
   "outputs": [
    {
     "name": "stdout",
     "output_type": "stream",
     "text": [
      "Hello Temur\n"
     ]
    }
   ],
   "source": [
    "#example 2\n",
    "\n",
    "def introduce(name):  # we can write argument to () \n",
    "    print('Hello', name)\n",
    "introduce(\"Temur\") # what to call it"
   ]
  },
  {
   "cell_type": "code",
   "execution_count": null,
   "metadata": {},
   "outputs": [
    {
     "name": "stdout",
     "output_type": "stream",
     "text": [
      "Hello Temur\n"
     ]
    }
   ],
   "source": [
    "introduce(name='Temur') #it works with both way"
   ]
  },
  {
   "cell_type": "code",
   "execution_count": null,
   "metadata": {},
   "outputs": [
    {
     "name": "stdout",
     "output_type": "stream",
     "text": [
      "6\n"
     ]
    }
   ],
   "source": [
    "#exapmle 3\n",
    "\n",
    "def add (a,b): \n",
    "    return a+b    #inside the block is local\n",
    "\n",
    "\n",
    "print(add(2,4)) #outside of block is global"
   ]
  },
  {
   "cell_type": "code",
   "execution_count": null,
   "metadata": {},
   "outputs": [
    {
     "name": "stdout",
     "output_type": "stream",
     "text": [
      "5\n",
      "20\n"
     ]
    }
   ],
   "source": [
    "def mult(a,b): \n",
    "    global c\n",
    "    c+=4\n",
    "    return a*b\n",
    "    \n",
    "c=5\n",
    "print(c)\n",
    "print(mult(4,5)) \n",
    "\n",
    "#since c in outside the block , we use global c to link to to block. when we say print(c), it first search in local, then global\n",
    "\n"
   ]
  },
  {
   "cell_type": "code",
   "execution_count": null,
   "metadata": {},
   "outputs": [
    {
     "data": {
      "text/plain": [
       "25"
      ]
     },
     "execution_count": 9,
     "metadata": {},
     "output_type": "execute_result"
    }
   ],
   "source": [
    "#example 4\n",
    "\n",
    "def square(n) :\n",
    "    return n*n\n",
    "square(5) #finds square of n"
   ]
  },
  {
   "cell_type": "markdown",
   "metadata": {},
   "source": [
    "## Arguments\n",
    "### Positional and keyword arguments"
   ]
  },
  {
   "cell_type": "code",
   "execution_count": null,
   "metadata": {},
   "outputs": [
    {
     "name": "stdout",
     "output_type": "stream",
     "text": [
      "Salom, Temur!\n"
     ]
    }
   ],
   "source": [
    "def greet(name, message): \n",
    "    print(f\"{message}, {name}!\")\n",
    "greet(\"Temur\", \"Salom\")       #this is positional argument"
   ]
  },
  {
   "cell_type": "code",
   "execution_count": null,
   "metadata": {},
   "outputs": [
    {
     "name": "stdout",
     "output_type": "stream",
     "text": [
      "Salom, Bob!\n"
     ]
    }
   ],
   "source": [
    "greet(name='Temur', message='Salom')    #this is keyword argument.\n",
    "#if we write one of element as keyword, we cannot use it as positional, except for special cases"
   ]
  },
  {
   "cell_type": "markdown",
   "metadata": {},
   "source": [
    "### Positional only and keyword only arguments"
   ]
  },
  {
   "cell_type": "code",
   "execution_count": null,
   "metadata": {},
   "outputs": [
    {
     "data": {
      "text/plain": [
       "8"
      ]
     },
     "execution_count": 12,
     "metadata": {},
     "output_type": "execute_result"
    }
   ],
   "source": [
    "def pos_only (a,/,b): # a must be positional now\n",
    "    return a+b\n",
    "\n",
    "pos_only(3, b=5)  "
   ]
  },
  {
   "cell_type": "code",
   "execution_count": null,
   "metadata": {},
   "outputs": [
    {
     "data": {
      "text/plain": [
       "25"
      ]
     },
     "execution_count": 13,
     "metadata": {},
     "output_type": "execute_result"
    }
   ],
   "source": [
    "def key_only (*, a, b): # now, a and b must be keyword argument \n",
    "    return a*b \n",
    "key_only(a=5, b=5)"
   ]
  },
  {
   "cell_type": "markdown",
   "metadata": {},
   "source": [
    "``` So, elements before /, are always positional, and elements after *, are always keyboard arguments ```"
   ]
  },
  {
   "cell_type": "markdown",
   "metadata": {},
   "source": [
    "### Default arguments"
   ]
  },
  {
   "cell_type": "code",
   "execution_count": null,
   "metadata": {},
   "outputs": [
    {
     "name": "stdout",
     "output_type": "stream",
     "text": [
      "Hello, Temur\n"
     ]
    }
   ],
   "source": [
    "def greet(name=\"Guest\"): \n",
    "    print(f\"Hello, {name}\")\n",
    "\n",
    "greet(\"Temur\")  # this override default value"
   ]
  },
  {
   "cell_type": "code",
   "execution_count": null,
   "metadata": {},
   "outputs": [
    {
     "name": "stdout",
     "output_type": "stream",
     "text": [
      "Hello, Guest\n"
     ]
    }
   ],
   "source": [
    "greet() #this shows default name"
   ]
  },
  {
   "cell_type": "code",
   "execution_count": null,
   "metadata": {},
   "outputs": [
    {
     "data": {
      "text/plain": [
       "16"
      ]
     },
     "execution_count": 17,
     "metadata": {},
     "output_type": "execute_result"
    }
   ],
   "source": [
    "def squared (base, power_value=2):\n",
    "    return base**power_value\n",
    "\n",
    "squared(4) #follows default value \n"
   ]
  },
  {
   "cell_type": "code",
   "execution_count": null,
   "metadata": {},
   "outputs": [
    {
     "data": {
      "text/plain": [
       "243"
      ]
     },
     "execution_count": 18,
     "metadata": {},
     "output_type": "execute_result"
    }
   ],
   "source": [
    "squared(3, 5)  #override default value"
   ]
  },
  {
   "cell_type": "markdown",
   "metadata": {},
   "source": [
    "### Arbitary arguments \n",
    "\n",
    "#### It is when, funtion accepts several numebr of elements. They are positional arguments"
   ]
  },
  {
   "cell_type": "code",
   "execution_count": null,
   "metadata": {},
   "outputs": [
    {
     "name": "stdout",
     "output_type": "stream",
     "text": [
      "a=1\n",
      "b=5\n",
      "(2, 3, 4, 5, 6)\n"
     ]
    }
   ],
   "source": [
    "def demo(a, *args, b): \n",
    "    print(f\"a={a}\")\n",
    "    print(f\"b={b}\")\n",
    "    print(args) # args will be tuple\n",
    "\n",
    "demo(1, 2, 3, 4, 5, 6, b=5) "
   ]
  },
  {
   "cell_type": "markdown",
   "metadata": {},
   "source": [
    "### Arbitary Keyword arguments. \n",
    "#### It also accepts several elements, and store them as dictioanry. They are keyword arguments"
   ]
  },
  {
   "cell_type": "code",
   "execution_count": null,
   "metadata": {},
   "outputs": [
    {
     "name": "stdout",
     "output_type": "stream",
     "text": [
      "{'name': 'Temur', 'age': 17, 'city': 'Tashkent'}\n"
     ]
    }
   ],
   "source": [
    "def demo(**kwargs) : \n",
    "    print(kwargs)\n",
    "\n",
    "demo(name='Temur', age=17, city='Tashkent')  #kwargs will be dictionary"
   ]
  },
  {
   "cell_type": "code",
   "execution_count": 22,
   "metadata": {},
   "outputs": [
    {
     "name": "stdout",
     "output_type": "stream",
     "text": [
      "a=1\n",
      "b=2\n",
      "(3, 4, 5)\n",
      "{'name': 'Temur', 'city': 'Tashkent'}\n"
     ]
    }
   ],
   "source": [
    "def demo2 (a,b, *args, **kwargs):\n",
    "    print(f\"a={a}\")\n",
    "    print(f\"b={b}\")\n",
    "    print(args)\n",
    "    print(kwargs)\n",
    "\n",
    "demo2(1,2,3,4,5, name=\"Temur\", city=\"Tashkent\")"
   ]
  },
  {
   "cell_type": "markdown",
   "metadata": {},
   "source": [
    "### Lambda exrpession"
   ]
  },
  {
   "cell_type": "markdown",
   "metadata": {},
   "source": [
    "#### In lambda, there is only one expression, and multiple arguments. There is no need for def"
   ]
  },
  {
   "cell_type": "markdown",
   "metadata": {},
   "source": [
    "```\n",
    "lambda + <argument>  + : +  expressions"
   ]
  },
  {
   "cell_type": "code",
   "execution_count": null,
   "metadata": {},
   "outputs": [],
   "source": [
    "lambda x: x**2\n"
   ]
  },
  {
   "cell_type": "code",
   "execution_count": 23,
   "metadata": {},
   "outputs": [
    {
     "data": {
      "text/plain": [
       "16"
      ]
     },
     "execution_count": 23,
     "metadata": {},
     "output_type": "execute_result"
    }
   ],
   "source": [
    "def sqr(x): \n",
    "    return x**2\n",
    "\n",
    "sqr(4)"
   ]
  },
  {
   "cell_type": "code",
   "execution_count": 24,
   "metadata": {},
   "outputs": [
    {
     "data": {
      "text/plain": [
       "9"
      ]
     },
     "execution_count": 24,
     "metadata": {},
     "output_type": "execute_result"
    }
   ],
   "source": [
    "#or we can use \n",
    "\n",
    "square=lambda x: x**2\n",
    "square(3)"
   ]
  },
  {
   "cell_type": "code",
   "execution_count": null,
   "metadata": {},
   "outputs": [
    {
     "name": "stdout",
     "output_type": "stream",
     "text": [
      "1 4 ()\n"
     ]
    }
   ],
   "source": [
    "func=lambda x, y=4, *args: print(x,y,args) # y=4 is default value. if number of elements is one, y gets its default value\n",
    "\n",
    "func(1)"
   ]
  },
  {
   "cell_type": "code",
   "execution_count": null,
   "metadata": {},
   "outputs": [
    {
     "data": {
      "text/plain": [
       "11"
      ]
     },
     "execution_count": 27,
     "metadata": {},
     "output_type": "execute_result"
    }
   ],
   "source": [
    "#example1\n",
    "add = lambda a,b: a+b\n",
    "\n",
    "add(5,6)"
   ]
  },
  {
   "cell_type": "code",
   "execution_count": null,
   "metadata": {},
   "outputs": [
    {
     "data": {
      "text/plain": [
       "[1, 4, 9, 16, 25, 36, 49, 64]"
      ]
     },
     "execution_count": 28,
     "metadata": {},
     "output_type": "execute_result"
    }
   ],
   "source": [
    "#example2\n",
    "\n",
    "numbers= [1,2,3,4,5,6,7,8]\n",
    "list(map(lambda x: x**2, numbers))"
   ]
  },
  {
   "cell_type": "code",
   "execution_count": null,
   "metadata": {},
   "outputs": [
    {
     "data": {
      "text/plain": [
       "['Muhammad', 'Temur', 'Aziz']"
      ]
     },
     "execution_count": 31,
     "metadata": {},
     "output_type": "execute_result"
    }
   ],
   "source": [
    "#example 4\n",
    "\n",
    "names= ['Muhammad','Temur', 'Aziz']\n",
    "names.sort(key=lambda x: len(x), reverse=True)\n",
    "names"
   ]
  },
  {
   "cell_type": "code",
   "execution_count": null,
   "metadata": {},
   "outputs": [
    {
     "data": {
      "text/plain": [
       "38"
      ]
     },
     "execution_count": 32,
     "metadata": {},
     "output_type": "execute_result"
    }
   ],
   "source": [
    "#example5\n",
    "\n",
    "def multiplier(n):\n",
    "    return lambda x: x*2 #lambda can be also used in functions\n",
    "double=multiplier(2)\n",
    "\n",
    "double(19)"
   ]
  },
  {
   "cell_type": "code",
   "execution_count": 34,
   "metadata": {},
   "outputs": [
    {
     "data": {
      "text/plain": [
       "[('Temur', 18), ('Muhammad', 17), ('Aziz', 14)]"
      ]
     },
     "execution_count": 34,
     "metadata": {},
     "output_type": "execute_result"
    }
   ],
   "source": [
    "#example6\n",
    "\n",
    "students= [('Muhammad', 17), ('Temur', 18), ('Aziz', 14)]\n",
    "\n",
    "sorted_students=sorted(students, key=lambda x: x[1], reverse=True) #sort by age\n",
    "\n",
    "sorted_students"
   ]
  }
 ],
 "metadata": {
  "kernelspec": {
   "display_name": "Python 3",
   "language": "python",
   "name": "python3"
  },
  "language_info": {
   "codemirror_mode": {
    "name": "ipython",
    "version": 3
   },
   "file_extension": ".py",
   "mimetype": "text/x-python",
   "name": "python",
   "nbconvert_exporter": "python",
   "pygments_lexer": "ipython3",
   "version": "3.10.10"
  }
 },
 "nbformat": 4,
 "nbformat_minor": 2
}
