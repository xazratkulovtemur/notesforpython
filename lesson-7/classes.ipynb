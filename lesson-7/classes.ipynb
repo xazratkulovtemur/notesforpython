{
 "cells": [
  {
   "cell_type": "markdown",
   "metadata": {},
   "source": [
    "### Classes:\n",
    "\n",
    "#### class creation\n",
    "\n",
    "#### self\n",
    "\n",
    "#### Dunder methods"
   ]
  },
  {
   "cell_type": "code",
   "execution_count": null,
   "metadata": {},
   "outputs": [
    {
     "name": "stdout",
     "output_type": "stream",
     "text": [
      "Point 1:  (1, 2)\n",
      "Point 2: (9, 10)\n",
      "Distance between two points:  11.313708498984761\n",
      "Is point 1 inside the circle : True\n",
      "Is point 2 inside the circle:  False\n"
     ]
    }
   ],
   "source": [
    "#example1\n",
    "\n",
    "import math\n",
    "\n",
    "point1=(1,2)\n",
    "point2=(9,10)\n",
    "\n",
    "circle_centre=(5,5)\n",
    "circle_radius=5\n",
    "\n",
    "\n",
    "def distance(p1,p2):\n",
    "        return math.sqrt((p1[0]-p2[0])**2+(p1[1]-p2[1])**2)\n",
    "\n",
    "def is_inside_cirle(center, radius, point):\n",
    "    if distance(center, point)<=radius:\n",
    "        return True\n",
    "    return False\n",
    "\n",
    "\n",
    "print(\"Point 1: \", point1)\n",
    "print(\"Point 2:\", point2)\n",
    "\n",
    "print(\"Distance between two points: \", distance(point1, point2))\n",
    "print(\"Is point 1 inside the circle:\", is_inside_cirle(circle_centre, circle_radius, point1))\n",
    "print(\"Is point 2 inside the circle: \", is_inside_cirle(circle_centre, circle_radius, point2))"
   ]
  },
  {
   "cell_type": "code",
   "execution_count": 8,
   "metadata": {},
   "outputs": [
    {
     "name": "stdout",
     "output_type": "stream",
     "text": [
      "Initial balance for Temur 1000\n",
      "Temur`s balance after deposit:  1100\n",
      "Temur`s money after withdraw:  600\n"
     ]
    }
   ],
   "source": [
    "#example 2\n",
    "\n",
    "accounts={}\n",
    "\n",
    "def create_account(id, owner, balance):\n",
    "    accounts[id]={'owner':owner, 'balance':balance}\n",
    "\n",
    "def deposit (id, amount):\n",
    "    accounts[id]['balance']+= amount\n",
    "\n",
    "def withdraw (id, amount):\n",
    "    if accounts[id]['balance']>=amount:\n",
    "        accounts[id]['balance']-=amount\n",
    "        \n",
    "    return False\n",
    "\n",
    "def know_balance (id):\n",
    "    return accounts[id]['balance']\n",
    "\n",
    "\n",
    "create_account(1000, 'Temur', 1000)\n",
    "create_account(1001, 'Aziz', 10000000000)\n",
    "\n",
    "print(\"Initial balance for Temur\", know_balance(1000))\n",
    "deposit(1000, 100)\n",
    "print('Temur`s balance after deposit: ', know_balance(1000))\n",
    "withdraw(1000, 500)\n",
    "print('Temur`s money after withdraw: ', know_balance(1000))\n",
    "\n"
   ]
  },
  {
   "cell_type": "markdown",
   "metadata": {},
   "source": [
    "### Creating classes"
   ]
  },
  {
   "cell_type": "code",
   "execution_count": null,
   "metadata": {},
   "outputs": [
    {
     "name": "stdout",
     "output_type": "stream",
     "text": [
      "BMW, M5, 2022\n"
     ]
    }
   ],
   "source": [
    "#example 1\n",
    "\n",
    "class Car: #we use class to create classes\n",
    "    def __init__ (self, brand, model, year): #__init__ special , constuctor. brand, model, year these are parameters\n",
    "        self.brand=brand\n",
    "        self.model=model\n",
    "        self.year=year\n",
    "\n",
    "    def display_info(self):\n",
    "        print(f\"{self.brand}, {self.model}, {self.year}\")\n",
    "    \n",
    "my_car=Car('BMW', 'M5', 2022)\n",
    "my_car.display_info()"
   ]
  },
  {
   "cell_type": "code",
   "execution_count": 26,
   "metadata": {},
   "outputs": [
    {
     "name": "stdout",
     "output_type": "stream",
     "text": [
      "3\n",
      "12\n"
     ]
    }
   ],
   "source": [
    "#example2\n",
    "\n",
    "class Calculator:\n",
    "    def __init__ (self, a, b):\n",
    "        self.a=a\n",
    "        self.b=b\n",
    "    def add(self,a,b): \n",
    "        return a+b\n",
    "    def multiply(self,a,b):\n",
    "        return a*b\n",
    "calc=Calculator(0,0)\n",
    "\n",
    "\n",
    "\n",
    "print(calc.add(1,2))\n",
    "print(calc.multiply(3,4))"
   ]
  },
  {
   "cell_type": "code",
   "execution_count": 30,
   "metadata": {},
   "outputs": [
    {
     "data": {
      "text/plain": [
       "7.0710678118654755"
      ]
     },
     "execution_count": 30,
     "metadata": {},
     "output_type": "execute_result"
    }
   ],
   "source": [
    "#example3\n",
    "\n",
    "class Point:\n",
    "    def __init__ (self,x,y):\n",
    "        self.x=x\n",
    "        self.y=y\n",
    "\n",
    "    def distance(self, p2: 'Point'):\n",
    "        return math.sqrt((self.x-p2.x)**2+(self.y+p2.y)**2)\n",
    "    \n",
    "a=Point(5,5)\n",
    "b=Point(0,0)\n",
    "a.distance(b)\n"
   ]
  },
  {
   "cell_type": "code",
   "execution_count": 41,
   "metadata": {},
   "outputs": [
    {
     "name": "stdout",
     "output_type": "stream",
     "text": [
      "240\n"
     ]
    }
   ],
   "source": [
    "class Float:\n",
    "    def __init__(self,a,b,h):\n",
    "        self.a=a\n",
    "        self.b=b\n",
    "        self.h=h\n",
    "\n",
    "    def Volume(self):\n",
    "        return self.a*self.b*self.h\n",
    "a=int(input(\"Enter value of a: \"))\n",
    "b=int(input(\"Enter value of b: \"))\n",
    "h=int(input(\"Enter value of h: \"))\n",
    "cal=Float(a,b,h)\n",
    "\n",
    "\n",
    "\n",
    "print(cal.Volume())"
   ]
  },
  {
   "cell_type": "code",
   "execution_count": 9,
   "metadata": {},
   "outputs": [
    {
     "name": "stdout",
     "output_type": "stream",
     "text": [
      "Initial balance of Temur:  1000\n",
      "Temur's budget after deposit 1100\n"
     ]
    }
   ],
   "source": [
    "class Bankaccount:\n",
    "    def __init__ (self, account_number, owner, balance=0):\n",
    "        self.account_number=account_number\n",
    "        self.owner=owner\n",
    "        self.balance=balance\n",
    "\n",
    "\n",
    "    def deposit(self, amount):\n",
    "        self.balance +=amount\n",
    "\n",
    "    def withdraw(self, amount):\n",
    "        if self.balance>=amount:\n",
    "            self.balance-=amount\n",
    "            return True\n",
    "        return False\n",
    "    def know_balance(self):\n",
    "        return self.balance\n",
    "#example users    \n",
    "temur_account=Bankaccount(1000, 'Temur', 1000)\n",
    "aziz_account=Bankaccount(1001, 'Aziz', 10000000000)\n",
    "\n",
    "print(\"Initial balance of Temur: \", temur_account.know_balance())\n",
    "temur_account.deposit(100)\n",
    "print(\"Temur's budget after deposit\", temur_account.know_balance())\n"
   ]
  },
  {
   "cell_type": "code",
   "execution_count": 15,
   "metadata": {},
   "outputs": [
    {
     "name": "stdout",
     "output_type": "stream",
     "text": [
      "+executed!\n",
      "executed!\n",
      "Equal\n",
      "new Vector2D(6, 8)\n"
     ]
    }
   ],
   "source": [
    "class Vector2D:\n",
    "    def __init__(self, x, y):\n",
    "        self.x=x\n",
    "        self.y=y\n",
    "\n",
    "    def __eq__(self, other):#to check two vectors are equal, we cannot write just ==, we check values of x and y are equal with help of __eq__\n",
    "        print(\"executed!\")\n",
    "        return self.x==other.x and self.y==other.y\n",
    "    \n",
    "    def __add__ (self, other):\n",
    "        print(\"+executed!\")\n",
    "        newX=self.x+other.x\n",
    "        newY=self.y+other.y\n",
    "        return Vector2D(newX, newY)\n",
    "    \n",
    "    #we do same thing with -, *, / using __sub__, and so on\n",
    "    def __str__ (self):\n",
    "        return f\"new Vector2D({self.x}, {self.y})\"\n",
    "    \n",
    "v1=Vector2D(3,4)\n",
    "v2=Vector2D(3,4)\n",
    "\n",
    "v3=v1+v2\n",
    "\n",
    "if v1==v2:\n",
    "    print(\"Equal\")\n",
    "else:\n",
    "    print(\"Inequal\")\n",
    "\n",
    "\n",
    "print(v3)\n",
    "    "
   ]
  },
  {
   "cell_type": "markdown",
   "metadata": {},
   "source": [
    "```\n",
    "Dunder methods\n",
    "__str__     is used when we call string \n",
    "__repr__\n",
    "__eq__      equal, when we compare two objects are equal\n",
    "__ne__      not equal\n",
    "__lt__      < less than\n",
    "__gt__      > greater than\n",
    "__le__      <= less than and equal\n",
    "__ge__      >= greater than and equal\n",
    "__add__     + addition\n",
    "__sub__     - substraction\n",
    "__mul__     * Multipication\n",
    "__floordiv__    // floor division\n",
    "__truediv__     / true division\n",
    "__mod__       \n",
    "__pow__       power **\n",
    "__abs__       |   |  absolute value abs(self.value)\n",
    "__len__       length of obejct len()\n",
    "__getitem__     allows indexing   self.item[1]\n",
    "__contains__   allows in operator\n",
    "__iter__      runs iterator \n",
    "__next__      returns next item in iteration\n",
    "__call__      makes object callable\n",
    "__hash__      returns hash value\n",
    "```"
   ]
  }
 ],
 "metadata": {
  "kernelspec": {
   "display_name": "Python 3",
   "language": "python",
   "name": "python3"
  },
  "language_info": {
   "codemirror_mode": {
    "name": "ipython",
    "version": 3
   },
   "file_extension": ".py",
   "mimetype": "text/x-python",
   "name": "python",
   "nbconvert_exporter": "python",
   "pygments_lexer": "ipython3",
   "version": "3.10.10"
  }
 },
 "nbformat": 4,
 "nbformat_minor": 2
}
