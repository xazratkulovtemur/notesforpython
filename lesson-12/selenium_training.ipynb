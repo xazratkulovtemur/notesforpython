{
 "cells": [
  {
   "cell_type": "code",
   "execution_count": null,
   "metadata": {},
   "outputs": [
    {
     "name": "stdout",
     "output_type": "stream",
     "text": [
      "Google\n"
     ]
    }
   ],
   "source": [
    "\n",
    "\n",
    "from selenium import webdriver # type: ignore\n",
    "from selenium.webdriver.chrome.options import Options # type: ignore\n",
    "import time\n",
    "\n",
    "chrome_options = Options()\n",
    "\n",
    "driver = webdriver.Chrome(options=chrome_options)  # Updated parameter name\n",
    "driver.maximize_window()  # to full screen\n",
    "# or chrome_options.add_argument(\"--window-position=100,100\")  # Set a visible position\n",
    "driver.get(\"https://www.google.com/\")\n",
    "\n",
    "page_title = driver.title\n",
    "print(page_title)\n",
    "time.sleep(3)\n",
    "driver.quit()"
   ]
  },
  {
   "cell_type": "code",
   "execution_count": null,
   "metadata": {},
   "outputs": [
    {
     "name": "stdout",
     "output_type": "stream",
     "text": [
      "WEB title: Google\n"
     ]
    }
   ],
   "source": [
    "from selenium.webdriver.chrome.options import Options\n",
    "\n",
    "chrome_options=Options()\n",
    "chrome_options.add_argument(\"--headless\") #this runs browser in headless mode\n",
    "chrome_options.add_argument(\"--disable-popup-blocking\")\n",
    "\n",
    "chrome_options.add_experimental_option(\"detach\", True)# Browser will remain open after the script ends\n",
    "driver=webdriver.Chrome(options=chrome_options)\n",
    "driver.get(\"https://www.google.com/\")\n",
    "title_of_page=driver.title\n",
    "print(f\"WEB title: {title_of_page}\")"
   ]
  },
  {
   "cell_type": "code",
   "execution_count": null,
   "metadata": {},
   "outputs": [
    {
     "name": "stdout",
     "output_type": "stream",
     "text": [
      "<selenium.webdriver.remote.webelement.WebElement (session=\"ea7ef6776b8afe6e2015dfc63bf943ba\", element=\"f.A167E8119277105C5B234B0399312EE0.d.47609B8F4E8ABB9203FF80A4350AB540.e.2\")>\n"
     ]
    }
   ],
   "source": [
    "#locator\n",
    "\n",
    "from selenium.webdriver.common.by import By\n",
    "\n",
    "driver=webdriver.Chrome()\n",
    "driver.get(\"https://www.google.com/\")\n",
    "search_box=driver.find_element(By.ID, value=\"APjFqb\")\n",
    "search_box.send_keys(\"Python tutorial\")\n",
    "\n",
    "\n",
    "time.sleep(3)\n",
    "driver.quit()"
   ]
  },
  {
   "cell_type": "code",
   "execution_count": null,
   "metadata": {},
   "outputs": [],
   "source": [
    "from selenium import webdriver\n",
    "from selenium.webdriver.chrome.options import Options\n",
    "from selenium.webdriver.common.by import By\n",
    "from selenium.webdriver.common.keys import Keys\n",
    "import time\n",
    "\n",
    "chrome_options=Options()\n",
    "\n",
    "\n",
    "driver = webdriver.Chrome()\n",
    "driver.get(\"https://www.google.com/\")\n",
    "\n",
    "search_input = driver.find_element(By.NAME, 'search_query')\n",
    "search_input.send_keys(\"Machine Learning\")\n",
    "\n",
    "button = driver.find_element(By.CSS_SELECTOR, 'button[title=\"Search\"]')\n",
    "button.click()\n",
    "driver.quit()\n"
   ]
  },
  {
   "cell_type": "code",
   "execution_count": null,
   "metadata": {},
   "outputs": [],
   "source": [
    "from selenium import webdriver\n",
    "from selenium.webdriver.chrome.options import Options\n",
    "from selenium.webdriver.common.by import By\n",
    "from selenium.webdriver.common.keys import Keys\n",
    "import time\n",
    "\n",
    "chrome_options=Options()\n",
    "driver=webdriver.Chrome(chrome_options)\n",
    "driver.get(\"https://www.youtube.com/\")\n",
    "seach_box=driver.find_element(By.NAME, \"search_query\")\n",
    "search_box.send_keys(\"Machine learning\")\n",
    "button=driver.find_element(By.XPATH, '//button[@id=\"search-icon-legacy\"]')\n",
    "button.click()\n",
    "\n",
    "time.sleep(5)\n",
    "driver.quit()"
   ]
  },
  {
   "cell_type": "code",
   "execution_count": 24,
   "metadata": {},
   "outputs": [],
   "source": [
    "from selenium.webdriver.chrome.options import Options\n",
    "\n",
    "chrome_options=Options()\n",
    "\n",
    "chrome_options.add_argument(\"--disable-popup-blocking\")\n",
    "\n",
    "chrome_options.add_experimental_option(\"detach\", True)# Browser will remain open after the script ends\n",
    "driver=webdriver.Chrome(options=chrome_options)\n",
    "driver.get(\"https://www.google.com/\")\n",
    "\n",
    "change_language=driver.find_element(By.TAG_NAME, \"a\")\n",
    "change_language.click()\n",
    "\n"
   ]
  }
 ],
 "metadata": {
  "kernelspec": {
   "display_name": "Python 3",
   "language": "python",
   "name": "python3"
  },
  "language_info": {
   "codemirror_mode": {
    "name": "ipython",
    "version": 3
   },
   "file_extension": ".py",
   "mimetype": "text/x-python",
   "name": "python",
   "nbconvert_exporter": "python",
   "pygments_lexer": "ipython3",
   "version": "3.10.10"
  }
 },
 "nbformat": 4,
 "nbformat_minor": 2
}
