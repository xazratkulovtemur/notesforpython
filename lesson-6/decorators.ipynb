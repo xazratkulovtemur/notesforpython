{
 "cells": [
  {
   "cell_type": "markdown",
   "metadata": {},
   "source": [
    "## Decorators"
   ]
  },
  {
   "cell_type": "markdown",
   "metadata": {},
   "source": [
    "- Creating decorators\n",
    "- Applying decorators"
   ]
  },
  {
   "cell_type": "markdown",
   "metadata": {},
   "source": [
    "Purpose of decorators is to modify the elements without changing them at all"
   ]
  },
  {
   "cell_type": "code",
   "execution_count": null,
   "metadata": {},
   "outputs": [
    {
     "name": "stdout",
     "output_type": "stream",
     "text": [
      "Hello, extra info.\n"
     ]
    }
   ],
   "source": [
    "def my_decorator(func): \n",
    "    def wrapper():\n",
    "        print(\"Before\")\n",
    "        func()\n",
    "        print(\"After\")\n",
    "    return wrapper\n",
    " \n",
    "@my_decorator #syntactic sugar. Applying decorator. Decorating with @\n",
    "def say_hello():\n",
    "    print(\"Hello, extra info.\")\n",
    "say_hello()"
   ]
  },
  {
   "cell_type": "code",
   "execution_count": null,
   "metadata": {},
   "outputs": [
    {
     "name": "stdout",
     "output_type": "stream",
     "text": [
      "Before\n",
      "Your number a: 15\n",
      "after\n"
     ]
    }
   ],
   "source": [
    "def another_thing(a):\n",
    "    print(f\"Your number a: {a}\")\n",
    " \n",
    "def decorator2(func):\n",
    "    print(\"Before\")\n",
    "    func(15)\n",
    "    print(\"after\")\n",
    "\n",
    "decorator2(another_thing) #manually decorating\n",
    "\n"
   ]
  },
  {
   "cell_type": "code",
   "execution_count": 5,
   "metadata": {},
   "outputs": [
    {
     "name": "stdout",
     "output_type": "stream",
     "text": [
      "Hello, Temur\n",
      "Hello, Temur\n",
      "Hello, Temur\n",
      "Hello, Temur\n",
      "Hello, Temur\n"
     ]
    }
   ],
   "source": [
    "#example 3\n",
    "\n",
    "\n",
    "def repeat(n):\n",
    "    def decorator(func):\n",
    "        def wrapper(*args, **kwargs):\n",
    "            for _  in range(n):\n",
    "                func(*args, **kwargs)\n",
    "        return wrapper\n",
    "    return decorator\n",
    "\n",
    "@repeat(5)\n",
    "def greet(name):\n",
    "    print(f\"Hello, {name}\")\n",
    "greet(\"Temur\")\n",
    "\n",
    "\n",
    " "
   ]
  },
  {
   "cell_type": "code",
   "execution_count": 11,
   "metadata": {},
   "outputs": [
    {
     "name": "stdout",
     "output_type": "stream",
     "text": [
      "**************************************************\n",
      "Hello, Temur. Nice to meet you!\n",
      "**************************************************\n",
      "Hello, Temur. Nice to meet you!\n"
     ]
    }
   ],
   "source": [
    "def repeat(n):\n",
    "    def decorator(func):\n",
    "        def wrapper(*args):\n",
    "            for _ in range(n):\n",
    "                print(\"*\"*50)\n",
    "\n",
    "                func(*args)\n",
    "\n",
    "                \n",
    "        return wrapper\n",
    "    return decorator\n",
    "\n",
    "@repeat(2)\n",
    "def ask(name):\n",
    "    print(f\"Hello, {name}. Nice to meet you!\")\n",
    "\n",
    "ask(\"Temur\")"
   ]
  }
 ],
 "metadata": {
  "kernelspec": {
   "display_name": "Python 3",
   "language": "python",
   "name": "python3"
  },
  "language_info": {
   "codemirror_mode": {
    "name": "ipython",
    "version": 3
   },
   "file_extension": ".py",
   "mimetype": "text/x-python",
   "name": "python",
   "nbconvert_exporter": "python",
   "pygments_lexer": "ipython3",
   "version": "3.10.10"
  }
 },
 "nbformat": 4,
 "nbformat_minor": 2
}
