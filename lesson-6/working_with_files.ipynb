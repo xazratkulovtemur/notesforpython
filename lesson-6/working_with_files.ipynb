{
 "cells": [
  {
   "cell_type": "markdown",
   "metadata": {},
   "source": [
    "## Woriking with files\n"
   ]
  },
  {
   "cell_type": "code",
   "execution_count": null,
   "metadata": {},
   "outputs": [
    {
     "name": "stdout",
     "output_type": "stream",
     "text": [
      "Lorem ipsum dolor sit amet, eos cu amet viris, et affert discere disputationi eos, vel legere platonem ei. Vim cu aeque scriptorem adversarium, ea munere essent mediocrem has. Cu nam dictas saperet epicuri. Quo tempor vidisse platonem at, fugit pertinacia neglegentur id mea, sea id suas accumsan iudicabit. No quo suscipit liberavisse accommodare, et rebum ullamcorper has. Te vel dictas labitur ancillae, nam cu possit salutandi.\n",
      "\n",
      "\n",
      "\n",
      "Ne accumsan eloquentiam deterruisset vim, nisl urbanitas eos ex, cu eam possit oportere. Vix an dolor admodum, vis cu eirmod insolens vituperatoribus. Legere corpora est ut, vim in falli facilisis constituam, viderer consetetur interesset cum ut. Ei adhuc nihil vel. Doctus audire docendi no eos. Qui eu autem tation nostrum, cu per congue mucius habemus, fastidii vivendum vel te.\n",
      "\n",
      "\n",
      "\n",
      "Ea elit graece eum. Nec ea modo definiebas. Ponderum explicari quaerendum est te, ius ad ferri latine nominati, deseruisse percipitur usu te. Pro viris appellantur ne, qui prima dignissim constituam et, in has sint principes percipitur. Vero viris sea te, eum in dolore hendrerit aliquando.\n",
      "\n",
      "\n",
      "\n",
      "Te nam nostro fastidii iudicabit, volutpat expetenda dissentiunt pri an, pro mollis labores dolorum at. Eligendi pertinax deseruisse duo no, duo an vocibus verterem ullamcorper, ut eam probo oporteat. Unum maluisset cum ex, ornatus civibus euripidis sed an. Mel cu viris electram. Velit dolorum gubergren pro at, ad has altera dissentias.\n",
      "\n",
      "\n",
      "\n",
      "Usu doctus ceteros an. Ex atqui aeque soluta ius, sumo veri aliquam vel et. Ferri doming iudicabit vim no. Paulo ancillae necessitatibus has ad, mel an mutat homero saperet. Eos cu idque putent voluptatum, te mei ridens doctus corrumpit.\n"
     ]
    }
   ],
   "source": [
    "#to call files, we use built in function open()\n",
    "file=open('sample.txt')  \n",
    "#we can change mode by writing inside the brackets, like mode=w. If nothing mentioned about mode, its default mode is r, that is for reading\n",
    "file.read()\n",
    "\n"
   ]
  },
  {
   "cell_type": "markdown",
   "metadata": {},
   "source": [
    "\n",
    "### Character\tMeaning\n",
    "- ‘r’\topen file for reading (default)\n",
    "- ‘w’\topen for writing. If file exists, replace its contents\n",
    "- ‘a’\topen for writing. If file exists, appends to end\n",
    "- ‘b’\tbinary mode\n",
    "- ‘t’\ttext mode (default)\n",
    "- ’+’\treading and writing"
   ]
  },
  {
   "cell_type": "code",
   "execution_count": null,
   "metadata": {},
   "outputs": [],
   "source": [
    "file=open('sample.txt')\n",
    "for line in file: \n",
    "    print(line, end='') #removes extra newlines"
   ]
  },
  {
   "cell_type": "code",
   "execution_count": null,
   "metadata": {},
   "outputs": [
    {
     "name": "stdout",
     "output_type": "stream",
     "text": [
      "Lorem ipsum dolor sit amet, eos cu amet viris, et \n"
     ]
    }
   ],
   "source": [
    "#if we want to read certain number of characters. \n",
    "file=open('sample.txt')\n",
    "print(file.read(50)) #we use read(n) function adn enter n pages. It reads untill end of file. "
   ]
  },
  {
   "cell_type": "code",
   "execution_count": 23,
   "metadata": {},
   "outputs": [
    {
     "name": "stdout",
     "output_type": "stream",
     "text": [
      "['Lorem ipsum dolor sit amet, eos cu amet viris, et affert discere \\n', 'disputationi eos, vel legere platonem ei. Vim cu aeque scriptorem\\n', ' adversarium, ea munere essent mediocrem has. Cu nam dictas saperet\\n', '  epicuri. Quo tempor vidisse platonem at, fugit pertinacia neglegentur \\n', '  id mea, sea id suas accumsan iudicabit. No quo suscipit liberavisse \\n', '  accommodare, et rebum ullamcorper has. Te vel dictas labitur ancillae,\\n', '   nam cu possit salutandi.\\n', '\\n', 'Ne accumsan eloquentiam deterruisset vim, nisl urbanitas eos ex, \\n', 'cu eam possit oportere. Vix an dolor admodum, vis cu eirmod insolens\\n', ' vituperatoribus. Legere corpora est ut, vim in falli facilisis constituam,\\n', '  viderer consetetur interesset cum ut. Ei adhuc nihil vel. Doctus audire \\n', '  docendi no eos. Qui eu autem tation nostrum, cu per congue mucius habemus, \\n', '  fastidii vivendum vel te.\\n', '\\n', 'Ea elit graece eum. Nec ea modo definiebas. Ponderum explicari quaerendum \\n', 'qest te, ius ad ferri latine nominati, deseruisse percipitur usu te. Pro \\n', 'viris appellantur ne, qui prima dignissim constituam et, in has sint principes \\n', 'percipitur. Vero viris sea te, eum in dolore hendrerit aliquando.\\n', '\\n', 'Te nam nostro fastidii iudicabit, volutpat expetenda dissentiunt pri an, pro\\n', ' mollis labores dolorum at. Eligendi pertinax deseruisse duo no, duo an vocibus \\n', ' verterem ullamcorper, ut eam probo oporteat. Unum maluisset cum ex, ornatus civibus \\n', ' euripidis sed an. Mel cu viris electram. Velit dolorum gubergren pro at, ad has altera dissentias.\\n', '\\n', 'Usu doctus ceteros an. Ex atqui aeque soluta ius, sumo veri aliquam vel et. \\n', 'Ferri doming iudicabit vim no. Paulo ancillae necessitatibus has ad, mel an\\n', ' mutat homero saperet. Eos cu idque putent voluptatum, te mei ridens doctus corrumpit.']\n"
     ]
    }
   ],
   "source": [
    "file=open('sample.txt')\n",
    "lines=file.readlines() # to read lines\n",
    "print(lines)\n",
    "file.close()\n",
    "\n"
   ]
  },
  {
   "cell_type": "code",
   "execution_count": null,
   "metadata": {},
   "outputs": [],
   "source": [
    "#Best practise is using 'with'\n",
    "with open('sample.txt') as file:\n",
    "    content=file.read()\n",
    "    print(content)\n",
    "#if we use with to open a file, there is no need to close the file manually"
   ]
  },
  {
   "cell_type": "code",
   "execution_count": null,
   "metadata": {},
   "outputs": [],
   "source": [
    "#to check if the file exists or not, we do following\n",
    "\n",
    "import os\n",
    "if os.path.exists('sample.txt'):\n",
    "    with open('sample.txt') as file:\n",
    "        print(\"File exists\")\n",
    "        print('*'*50)\n",
    "        print(file.read())\n",
    "else: \n",
    "    print(\"File does not exist!\")"
   ]
  }
 ],
 "metadata": {
  "kernelspec": {
   "display_name": "Python 3",
   "language": "python",
   "name": "python3"
  },
  "language_info": {
   "codemirror_mode": {
    "name": "ipython",
    "version": 3
   },
   "file_extension": ".py",
   "mimetype": "text/x-python",
   "name": "python",
   "nbconvert_exporter": "python",
   "pygments_lexer": "ipython3",
   "version": "3.10.10"
  }
 },
 "nbformat": 4,
 "nbformat_minor": 2
}
