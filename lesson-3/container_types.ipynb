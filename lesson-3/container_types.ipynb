{
 "cells": [
  {
   "cell_type": "markdown",
   "metadata": {},
   "source": [
    "# Container_types_Intro\n"
   ]
  },
  {
   "cell_type": "markdown",
   "metadata": {},
   "source": [
    "Container/Refenrence types:\n",
    "- 'list'\n",
    "- 'container'\n",
    "- 'tuple'\n",
    "- 'dictionary'\n"
   ]
  },
  {
   "cell_type": "code",
   "execution_count": 24,
   "metadata": {},
   "outputs": [
    {
     "name": "stdout",
     "output_type": "stream",
     "text": [
      "['apple', 'banana', 'chery']\n"
     ]
    }
   ],
   "source": [
    "fruits=['apple', 'banana' , 'chery' ]\n",
    "print(fruits)\n"
   ]
  },
  {
   "cell_type": "code",
   "execution_count": 25,
   "metadata": {},
   "outputs": [
    {
     "name": "stdout",
     "output_type": "stream",
     "text": [
      "['apple', 3, True]\n"
     ]
    }
   ],
   "source": [
    "mixed=['apple', 3, True]\n",
    "\n",
    "print(mixed)\n"
   ]
  },
  {
   "cell_type": "code",
   "execution_count": 1,
   "metadata": {},
   "outputs": [
    {
     "name": "stdout",
     "output_type": "stream",
     "text": [
      "['T', 'e', 'm', 'u', 'r', ' ', 'A', 'z', 'i', 'z', ' ', 'v', 'a', ' ', 'm', 'e', 'n']\n"
     ]
    }
   ],
   "source": [
    "list('abcd')\n",
    "mystr=(\"Temur Aziz va men\")\n",
    "print(list(mystr))\n"
   ]
  },
  {
   "cell_type": "markdown",
   "metadata": {},
   "source": [
    "#### Stringda qanday bo`lsa, listda ham indexing bor. Lekin u elementlarni sanaydi.  \n",
    "Misol uchun: \n"
   ]
  },
  {
   "cell_type": "code",
   "execution_count": 27,
   "metadata": {},
   "outputs": [
    {
     "data": {
      "text/plain": [
       "[1, 3, 5, 7, 9]"
      ]
     },
     "execution_count": 27,
     "metadata": {},
     "output_type": "execute_result"
    }
   ],
   "source": [
    "number=[1,2,3,4,5,6,7,8,9]\n",
    "(number[::2])\n",
    "\n"
   ]
  },
  {
   "cell_type": "code",
   "execution_count": 94,
   "metadata": {},
   "outputs": [
    {
     "name": "stdout",
     "output_type": "stream",
     "text": [
      "1830211551600\n",
      "1830211551600\n",
      "6\n",
      "5\n"
     ]
    }
   ],
   "source": [
    "a = 5\n",
    "b = a \n",
    "print(id(a))\n",
    "print(id(b))\n",
    "a += 1\n",
    "print(a)\n",
    "print(b)\n"
   ]
  },
  {
   "cell_type": "code",
   "execution_count": 29,
   "metadata": {},
   "outputs": [
    {
     "name": "stdout",
     "output_type": "stream",
     "text": [
      "[1, 2, 3, [4]]\n"
     ]
    }
   ],
   "source": [
    "a=[1,2,3]\n",
    "a.append([4])      # append is method of list that is used to join 1 element to the end of list.\n",
    "print(a)"
   ]
  },
  {
   "cell_type": "code",
   "execution_count": 30,
   "metadata": {},
   "outputs": [
    {
     "name": "stdout",
     "output_type": "stream",
     "text": [
      "[1, 2, 3, [4]]\n"
     ]
    }
   ],
   "source": [
    "b=a.copy()\n",
    "print(b)"
   ]
  },
  {
   "cell_type": "code",
   "execution_count": 31,
   "metadata": {},
   "outputs": [
    {
     "name": "stdout",
     "output_type": "stream",
     "text": [
      "1\n"
     ]
    }
   ],
   "source": [
    "c=[[1,2], [3,4]]\n",
    "print(c[0][0])   #it shows 1th element of 1th element"
   ]
  },
  {
   "cell_type": "code",
   "execution_count": 95,
   "metadata": {},
   "outputs": [
    {
     "name": "stdout",
     "output_type": "stream",
     "text": [
      "1830288515328\n",
      "1830288515328\n",
      "[1, 2, 3, 4]\n",
      "[1, 2, 3, 4]\n",
      "1830288515328\n",
      "1830288515328\n"
     ]
    }
   ],
   "source": [
    "a=[1,2,3]\n",
    "b=a \n",
    "print(id(a))\n",
    "print(id(b))\n",
    "#refenrece assignment\n",
    "a.append(4)\n",
    "print(a)\n",
    "print(b)\n",
    "#xotirada 1ta joy yaratildi, unga borish uchun a va b yo`l bor. Qaysi yo`lni tanlasak ham, manzil bir xil\n",
    "print(id(a))\n",
    "print(id(b))"
   ]
  },
  {
   "cell_type": "code",
   "execution_count": null,
   "metadata": {},
   "outputs": [],
   "source": [
    "numbers=[1,2,3,4,5,6,7,8,9]\n",
    "numbers.extend([11, 12, 13, 14])\n",
    "numbers"
   ]
  },
  {
   "cell_type": "markdown",
   "metadata": {},
   "source": [
    "#### we have Copy and Deepcopy\n",
    "#Shallow and Deep copy\n",
    "Copy qilinganda 2ta alohida obyekt yaratiladi\n",
    "Shallow copy faqatgina level 1da copy qiladi, deepcopy esa container ichidagi container, barcha ma`lumotlarni copy qiladi"
   ]
  },
  {
   "cell_type": "markdown",
   "metadata": {},
   "source": [
    "# list methods\n",
    "- 'append()'        adds elements to the list as one single item\n",
    "- 'clear()'         clears everything in the list\n",
    "- 'copy()'          copy \n",
    "- 'count()'         counts how many times selected item repeated\n",
    "- 'extend()'        adds elements to the list. But as separate items\n",
    "- 'index()'         to know in which index in the list the selected items is. example fruits.index('apple') \n",
    "- 'insert()'        insert the new element to selected index use: number.insert(index number, element)\n",
    "- 'pop()'           removes last element if nothing written in (), if written (), it index number of elements\n",
    "- 'remove()'        remove selected item from the list\n",
    "- 'reverse()'       in-place reverse. Listdagi elemetlarning joyini almashtiradi reversely\n",
    "- 'sort()'          elementlarni alfabet yoki o'sish tartibi bo'yicha tartiblaydi.\n"
   ]
  },
  {
   "cell_type": "markdown",
   "metadata": {},
   "source": [
    "# list qilisht turlari\n",
    "1. name=['item1', 'item2']\n",
    "2. list([1,2,3,4])\n",
    "3. list('absswv')"
   ]
  },
  {
   "cell_type": "code",
   "execution_count": 32,
   "metadata": {},
   "outputs": [
    {
     "data": {
      "text/plain": [
       "['apple', 'banana', 'apple']"
      ]
     },
     "execution_count": 32,
     "metadata": {},
     "output_type": "execute_result"
    }
   ],
   "source": [
    "fruits=['apple' , 'banana']\n",
    "fruits.append('apple')\n",
    "fruits\n"
   ]
  },
  {
   "cell_type": "code",
   "execution_count": 33,
   "metadata": {},
   "outputs": [
    {
     "data": {
      "text/plain": [
       "2"
      ]
     },
     "execution_count": 33,
     "metadata": {},
     "output_type": "execute_result"
    }
   ],
   "source": [
    "fruits.count('apple')"
   ]
  },
  {
   "cell_type": "code",
   "execution_count": 34,
   "metadata": {},
   "outputs": [],
   "source": [
    "fruits.extend(['watermelon', 'melon', 'peach'])\n",
    "#fruits #difference betwwen append and extend is that append joins the element as one to list, even though it has several elemets in list. But extend joins the elements as several elements to list."
   ]
  },
  {
   "cell_type": "code",
   "execution_count": null,
   "metadata": {},
   "outputs": [],
   "source": [
    "fruits.append(['watermelo', 'melon', 'peach'])\n",
    "#fruits"
   ]
  },
  {
   "cell_type": "code",
   "execution_count": null,
   "metadata": {},
   "outputs": [
    {
     "data": {
      "text/plain": [
       "8"
      ]
     },
     "execution_count": 36,
     "metadata": {},
     "output_type": "execute_result"
    }
   ],
   "source": [
    "fruits=[ 'peach' ,'apple',  'peach' , 'banana', 'ananas' , ' apple' , 'melon' , 'watermelon' , 'peach']\n",
    "fruits.index('peach', 3) #index shows the position of element n list, 3 is starting point of search"
   ]
  },
  {
   "cell_type": "code",
   "execution_count": 37,
   "metadata": {},
   "outputs": [
    {
     "data": {
      "text/plain": [
       "2"
      ]
     },
     "execution_count": 37,
     "metadata": {},
     "output_type": "execute_result"
    }
   ],
   "source": [
    "fruits.index('peach', fruits.index('peach')+1) #shows the position of 2nd peach in list"
   ]
  },
  {
   "cell_type": "code",
   "execution_count": 38,
   "metadata": {},
   "outputs": [],
   "source": [
    "#fruits.pop(0) #pop() deletes the last element of list\n",
    "\n",
    "fruits.append(\"apple\")"
   ]
  },
  {
   "cell_type": "code",
   "execution_count": 53,
   "metadata": {},
   "outputs": [],
   "source": [
    "fruits=[ 'peach' ,'apple',  'peach' , 'banana', 'ananas' , 'apple' , 'melon' , 'watermelon' , 'peach']"
   ]
  },
  {
   "cell_type": "code",
   "execution_count": 63,
   "metadata": {},
   "outputs": [
    {
     "data": {
      "text/plain": [
       "['peach', 'peach', 'banana', 'ananas', 'apple', 'melon', 'watermelon', 'peach']"
      ]
     },
     "execution_count": 63,
     "metadata": {},
     "output_type": "execute_result"
    }
   ],
   "source": [
    "fruits"
   ]
  },
  {
   "cell_type": "code",
   "execution_count": null,
   "metadata": {},
   "outputs": [],
   "source": [
    "fruits.remove(\"apple\")"
   ]
  },
  {
   "cell_type": "markdown",
   "metadata": {},
   "source": [
    "fruits.index('selected item', n that is starting point, m that is ending point)"
   ]
  },
  {
   "cell_type": "code",
   "execution_count": null,
   "metadata": {},
   "outputs": [
    {
     "data": {
      "text/plain": [
       "7"
      ]
     },
     "execution_count": 64,
     "metadata": {},
     "output_type": "execute_result"
    }
   ],
   "source": [
    "#fruits.index('banana', 1,4)\n",
    "# 1 is starting point and 4 is ending point so that banana is searched inside this indexes\n",
    "fruits.index('peach', (fruits.index('peach')+2)) \n",
    "#we can also take starting or ending point related to index\n"
   ]
  },
  {
   "cell_type": "markdown",
   "metadata": {},
   "source": [
    "Agar listda bir necha marotaba qatnashgan elementlar bo`lsa ,va remove('element') dan foydalansak faqatgina birinchi qatnashgan elementni olish tashlaydi.\n",
    "\n",
    "Biz fruits.remove(fruits[3]) dan ham foydalanishimiz mumkin"
   ]
  },
  {
   "cell_type": "code",
   "execution_count": null,
   "metadata": {},
   "outputs": [],
   "source": [
    "fruits.sort() #if nothing is written in () it sorts in alphabetic order\n",
    "fruits\n",
    "numbers=[25,2,1,3,5,6,354,76,9]\n",
    "sorted(numbers) #raqamlarni o`sish tartibida saralaydi\n",
    "#teskaridan saralashuchun\n",
    "sorted(numbers, reverse=True)\n",
    "fruits.sort(reverse=True)\n",
    "fruits"
   ]
  },
  {
   "cell_type": "markdown",
   "metadata": {},
   "source": [
    "Tartib shartlarnini o`zimiz yaratishimiz mumkin: \n",
    "sorted(fruits, key=lambda x: len(x))"
   ]
  },
  {
   "cell_type": "code",
   "execution_count": 33,
   "metadata": {},
   "outputs": [
    {
     "data": {
      "text/plain": [
       "1"
      ]
     },
     "execution_count": 33,
     "metadata": {},
     "output_type": "execute_result"
    }
   ],
   "source": [
    "#sorted(fruits, key=lambda x: len(x))\n",
    "# x here is just parameter, we can change it whatever we want. We can change variables, for exaample, we ca sort out numbers by absolute value if negative number we have in the list\n",
    "number=[1,3,24,54,12,-12,-45,9]\n",
    "sorted(number, key=lambda z: abs(z))\n",
    "number\n",
    "#number.insert(1,43)\n",
    "number\n",
    "sorted(number, key=lambda z: abs(z))\n",
    "number\n",
    "number.pop(0)"
   ]
  },
  {
   "cell_type": "markdown",
   "metadata": {},
   "source": [
    "## TUPLE"
   ]
  },
  {
   "cell_type": "markdown",
   "metadata": {},
   "source": [
    "Tuple is also kind of list, but it is immutable, which means cannot be changed. \n"
   ]
  },
  {
   "cell_type": "code",
   "execution_count": 106,
   "metadata": {},
   "outputs": [
    {
     "data": {
      "text/plain": [
       "(21,)"
      ]
     },
     "execution_count": 106,
     "metadata": {},
     "output_type": "execute_result"
    }
   ],
   "source": [
    "a=(1,2,3,4,5)\n",
    "#s=slice(0,3) = a[0:3] #we can also use slice(start, end, step) to get elements\n",
    "s=slice(0,5,2)\n",
    "a[s]\n",
    "a[0:1] #output (1,) since it should indicate it is tuple\n",
    "tuple([21])\n"
   ]
  },
  {
   "cell_type": "markdown",
   "metadata": {},
   "source": [
    "Tuple immutable bo'lgani uchun uning faqat Index va Count methodlari bor. \n",
    "Tuple va Listning ishlatilish holatlari bor. Agar o'zgartirilish kerak bo'lsa listdan foydalaniladi, unday bo`lmasa, Tupledan foydalaniladi."
   ]
  },
  {
   "cell_type": "code",
   "execution_count": null,
   "metadata": {},
   "outputs": [],
   "source": [
    "tuple()=tuple(()) #empty tuple"
   ]
  },
  {
   "cell_type": "code",
   "execution_count": null,
   "metadata": {},
   "outputs": [],
   "source": [
    "#Tuple unpacking \n",
    "\n",
    "t=(1, 'aufjnkekqeg', 23) \n",
    "id, name, age=t    #Now, 1 is ID, 'aufjnkekqeg' is name and 23 is age\n",
    "id\n",
    "\n",
    "result, remainder=tuple(divmod(10,3))\n",
    "\n"
   ]
  },
  {
   "cell_type": "markdown",
   "metadata": {},
   "source": [
    "## Dictionary"
   ]
  },
  {
   "cell_type": "markdown",
   "metadata": {},
   "source": [
    "in DIctionary type: \n",
    "we have: \n",
    "\n",
    "key:value\n",
    "\n",
    "example: 'name': \"John\""
   ]
  },
  {
   "cell_type": "code",
   "execution_count": 9,
   "metadata": {},
   "outputs": [
    {
     "data": {
      "text/plain": [
       "dict_items([('name', 'Temur'), ('email', 'khazratkuovtemur@gmail.com'), ('age', 17)])"
      ]
     },
     "execution_count": 9,
     "metadata": {},
     "output_type": "execute_result"
    }
   ],
   "source": [
    "person = {\n",
    "    'name': \"Temur\",\n",
    "    'email': \"khazratkuovtemur@gmail.com\",\n",
    "    'age': 17\n",
    "}\n",
    "person2 = {\n",
    "    'name': \"Aziz\",\n",
    "    'email': \"Aziz@gmail.com\",\n",
    "    'age': 13\n",
    "}\n",
    "\n",
    "\n",
    "person.keys() #to find what keys person has\n",
    "person.values() #to find values preson has\n",
    "person.items() #to find all items person has"
   ]
  },
  {
   "cell_type": "code",
   "execution_count": 127,
   "metadata": {},
   "outputs": [
    {
     "data": {
      "text/plain": [
       "'TEMUR'"
      ]
     },
     "execution_count": 127,
     "metadata": {},
     "output_type": "execute_result"
    }
   ],
   "source": [
    "person['name'].upper()"
   ]
  },
  {
   "cell_type": "code",
   "execution_count": null,
   "metadata": {},
   "outputs": [
    {
     "data": {
      "text/plain": [
       "{'name': 'Temur', 'email': 'khazratkuovtemur@gmail.com', 'age': 17}"
      ]
     },
     "execution_count": 10,
     "metadata": {},
     "output_type": "execute_result"
    }
   ],
   "source": [
    "dict([('name', 'Temur'), ('email', 'khazratkuovtemur@gmail.com'), ('age', 17)])   #to create dictionary by dict()"
   ]
  },
  {
   "cell_type": "code",
   "execution_count": 2,
   "metadata": {},
   "outputs": [],
   "source": [
    "#in 3 ways we can create dictionary\n",
    "\n",
    "#1st\n",
    "\n",
    "person={\n",
    "    'name': \"Temur\",\n",
    "    'email': \"temur@gmail.com\"\n",
    "}\n",
    "#2nd \n",
    "\n",
    "person=dict([('name', 'Temur'), ('email', 'temur@gmail.com')])\n",
    "\n",
    "#3rd way\n",
    "\n",
    "person = dict(name='Temur' , email='temur@gmail.com')"
   ]
  },
  {
   "cell_type": "code",
   "execution_count": 4,
   "metadata": {},
   "outputs": [
    {
     "name": "stdout",
     "output_type": "stream",
     "text": [
      "{'name': 'Temur', 'email': 'temur@gmail.com', 'lname': 'Xazratqulov'}\n"
     ]
    }
   ],
   "source": [
    "person['lname']='Xazratqulov'#add new key and value to the dictionary\n",
    "print(person)\n"
   ]
  },
  {
   "cell_type": "code",
   "execution_count": null,
   "metadata": {},
   "outputs": [
    {
     "data": {
      "text/plain": [
       "{1: 'a', False: 'ab', 'yes': 'abc', (1, 2, 3): 'abcd'}"
      ]
     },
     "execution_count": 11,
     "metadata": {},
     "output_type": "execute_result"
    }
   ],
   "source": [
    "#Dictionaryga stringni, integerlarni, boolni, va tupleni key sifatida qo`sish mumkin\n",
    "\n",
    "k1=1\n",
    "k2=False\n",
    "k3='yes'\n",
    "k4=(1,2,3)\n",
    "\n",
    "d2= {\n",
    "    k1: 'a', \n",
    "    k2: 'ab', \n",
    "    k3: 'abc', \n",
    "    k4: 'abcd'\n",
    "    \n",
    "\n",
    "}\n",
    "\n",
    "d2"
   ]
  },
  {
   "cell_type": "code",
   "execution_count": 13,
   "metadata": {},
   "outputs": [
    {
     "data": {
      "text/plain": [
       "{1: 'a', False: 'ab', 'yes': 'abc', (1, 2, 3): 'abcd'}"
      ]
     },
     "execution_count": 13,
     "metadata": {},
     "output_type": "execute_result"
    }
   ],
   "source": [
    "\n",
    "k1=1\n",
    "k2=False\n",
    "k3='yes'\n",
    "k4=(1,2,3)\n",
    "#k5=[1,2,3]\n",
    "\n",
    "d2= {\n",
    "    k1: 'a', \n",
    "    k2: 'ab', \n",
    "    k3: 'abc', \n",
    "    k4: 'abcd',\n",
    "   #k5:'abcde'\n",
    "\n",
    "}\n",
    "\n",
    "#We cannot use list as a key in dictionary, even if it is in the tuple\n",
    "d2"
   ]
  },
  {
   "cell_type": "code",
   "execution_count": null,
   "metadata": {},
   "outputs": [],
   "source": [
    "#Hashable degani hash() funsiyasi ichiga joylash mumkin degani\n",
    "\n"
   ]
  },
  {
   "cell_type": "code",
   "execution_count": null,
   "metadata": {},
   "outputs": [
    {
     "data": {
      "text/plain": [
       "{1: 'f', 2: 'b', 3: 'c', 4: 'e'}"
      ]
     },
     "execution_count": 8,
     "metadata": {},
     "output_type": "execute_result"
    }
   ],
   "source": [
    "table = {\n",
    "    1: 'a',\n",
    "    2: 'b',\n",
    "    3: 'c'\n",
    "}\n",
    "table\n",
    "table.update({4:'e', 1:'f'})\n",
    "table\n",
    "\n",
    "#update method orqali dictionaryga yangi elementlarni qo`sha olamiz, agar mavjud keyni qo`shsak lekin valuesi o`zgargan bo`lsa, valueni yangilaydi shu key uchun."
   ]
  },
  {
   "cell_type": "markdown",
   "metadata": {},
   "source": [
    "## SET\n",
    "To`plam\n"
   ]
  },
  {
   "cell_type": "code",
   "execution_count": null,
   "metadata": {},
   "outputs": [
    {
     "data": {
      "text/plain": [
       "['c', 'b', 'e', 'd', 'a']"
      ]
     },
     "execution_count": 15,
     "metadata": {},
     "output_type": "execute_result"
    }
   ],
   "source": [
    "letters = { 'a', 'b', 'c', 'd'}\n",
    "type(letters)\n",
    "letters\n",
    "letters = { 'a', 'b', 'c', 'd', 'a', 'a', 'b'} #SET shunday narsaki bir element faqatgina bir marta keloladi, agar SETda element bir martadan ko`p qatnashgan bo`lsa ham, outputda bitta ko`rsatadi`\n",
    "letters\n",
    "letters1=['a', 'b', 'c', 'd', 'e', 'a', 'a', 'b'] #ko`p marta qatnashgan elementlarni o`chirish uchun setdan foydalanamiz\n",
    "\n",
    "letters1\n",
    "list(set(letters1)) #set ko`p marta qatnashgan elementlarni o`chiradi"
   ]
  },
  {
   "cell_type": "code",
   "execution_count": null,
   "metadata": {},
   "outputs": [
    {
     "data": {
      "text/plain": [
       "{'c', 'd'}"
      ]
     },
     "execution_count": 20,
     "metadata": {},
     "output_type": "execute_result"
    }
   ],
   "source": [
    "s1={'a', 'b', 'c'}\n",
    "s2={'d', 'a', 'b'}\n",
    "s1.union(s2)\n",
    "#there is symbols for only set meaning union and intersection \n",
    "# | means union, and & means intersection\n",
    "s1&s2\n",
    "s1|s2\n",
    "\n",
    "#there is also difference method in set, meaning that s1-s2 To`plamlar ayirmasi`\n",
    "#there is also symmetric_diference that shows all differences\n",
    "s1.symmetric_difference(s2) #symmetric_difference() = ^"
   ]
  },
  {
   "cell_type": "markdown",
   "metadata": {},
   "source": [
    "## in function"
   ]
  },
  {
   "cell_type": "code",
   "execution_count": 22,
   "metadata": {},
   "outputs": [
    {
     "data": {
      "text/plain": [
       "True"
      ]
     },
     "execution_count": 22,
     "metadata": {},
     "output_type": "execute_result"
    }
   ],
   "source": [
    "'apple' in ['apple', 'banana']"
   ]
  },
  {
   "cell_type": "markdown",
   "metadata": {},
   "source": [
    "# Namedtuple\n"
   ]
  },
  {
   "cell_type": "code",
   "execution_count": 28,
   "metadata": {},
   "outputs": [
    {
     "data": {
      "text/plain": [
       "'Temur'"
      ]
     },
     "execution_count": 28,
     "metadata": {},
     "output_type": "execute_result"
    }
   ],
   "source": [
    "from collections import namedtuple\n",
    "#his line imports the namedtuple factory function from the collections module.\n",
    "\n",
    "Person =namedtuple('Person', ['name', 'age', 'city'])\n",
    "#This line creates a new class named Person with three attributes: name, age, and city\n",
    "\n",
    "person1=Person('Temur', 17, 'Jizzakh')\n",
    "person2=Person('Aziz', 13, 'Jizzakh')\n",
    "person1[0]\n",
    "#to access elements of namedtuple, we can use index with [] or attribute with .\n"
   ]
  }
 ],
 "metadata": {
  "kernelspec": {
   "display_name": "Python 3",
   "language": "python",
   "name": "python3"
  },
  "language_info": {
   "codemirror_mode": {
    "name": "ipython",
    "version": 3
   },
   "file_extension": ".py",
   "mimetype": "text/x-python",
   "name": "python",
   "nbconvert_exporter": "python",
   "pygments_lexer": "ipython3",
   "version": "3.10.10"
  }
 },
 "nbformat": 4,
 "nbformat_minor": 2
}
